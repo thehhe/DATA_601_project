{
 "cells": [
  {
   "cell_type": "code",
   "execution_count": null,
   "id": "55544291",
   "metadata": {},
   "outputs": [],
   "source": [
    "import pandas as pd\n",
    "import geopandas as gpd\n",
    "import numpy as np\n",
    "import matplotlib.pyplot as plt\n",
    "\n",
    "import plotly.express as px\n",
    "import plotly.graph_objects as go\n",
    "\n",
    "from datetime import datetime, timedelta\n",
    "import json"
   ]
  },
  {
   "cell_type": "code",
   "execution_count": null,
   "id": "34cd0ab8",
   "metadata": {},
   "outputs": [],
   "source": [
    "cen_df = gpd.read_file(\"data/census_by_community_2019.geojson\")"
   ]
  },
  {
   "cell_type": "code",
   "execution_count": null,
   "id": "b8ab7333",
   "metadata": {},
   "outputs": [],
   "source": [
    "communities_df = cen_df[[\"name\", \"geometry\"]]\n",
    "communities_df = communities_df \\\n",
    "    .loc[~communities_df[\"name\"].str.contains(\"^\\d\")] \\\n",
    "    .set_index(\"name\")\n",
    "communities_df.shape"
   ]
  },
  {
   "cell_type": "code",
   "execution_count": null,
   "id": "91de85e3",
   "metadata": {},
   "outputs": [],
   "source": [
    "crime_df = pd.read_csv(\"data/community_crime_statistics.csv\", parse_dates=[\"Date\"])\n",
    "crime_df.loc[:, \"QUARTER\"] = crime_df.loc[:, \"Date\"].dt.to_period(\"Q\").astype(\"str\")\n",
    "crime_df = crime_df \\\n",
    "    .loc[~crime_df[\"Community Name\"].str.contains(\"^\\d\")] \\\n",
    "    .loc[~crime_df[\"lat\"].isna()] \\\n",
    "    .groupby([\"Community Name\", \"QUARTER\"]) \\\n",
    "    .sum([\"Crime Count\"])[\"Crime Count\"] \\\n",
    "    .reset_index() \\\n",
    "    .set_index(\"Community Name\") \\\n",
    "    .join(communities_df, how=\"right\")\n",
    "\n",
    "crime_df"
   ]
  },
  {
   "cell_type": "code",
   "execution_count": null,
   "id": "6286ff80",
   "metadata": {},
   "outputs": [],
   "source": [
    "crime_gdf = gpd.GeoDataFrame(crime_df, geometry=crime_df[\"geometry\"])\n",
    "crime_gdf = crime_gdf.to_crs(epsg=4326)\n",
    "\n",
    "crime_gdf[\"Crime Count\"].sort_values()\n",
    "# print(crime_gdf.index.unique().shape)\n",
    "# crime_gdf.dtypes\n",
    "# crime_gdf = crime_gdf.loc[(crime_gdf[\"Date\"].dt.year == 2019) & (crime_gdf[\"Date\"].dt.month == 5)]\n"
   ]
  },
  {
   "cell_type": "code",
   "execution_count": null,
   "id": "a03dafd9",
   "metadata": {},
   "outputs": [],
   "source": []
  },
  {
   "cell_type": "code",
   "execution_count": null,
   "id": "82669e7e",
   "metadata": {},
   "outputs": [],
   "source": []
  },
  {
   "cell_type": "code",
   "execution_count": null,
   "id": "f49b3279",
   "metadata": {},
   "outputs": [],
   "source": [
    "shelter_df = pd.read_csv(\"data/2013-2022-emergency-shelter-occupancy-machine-readable.csv\", parse_dates=[\"Date\"])\n",
    "# manually add the missing value for the Brenda House 2022-04-01 capacity\n",
    "shelter_df.loc[(shelter_df[\"Date\"] == \"2022-04-01\") & (shelter_df[\"ShelterName\"] == \"Brendas House\"), \"Capacity\"] = 60\n",
    "shelter_df.head(3)"
   ]
  },
  {
   "cell_type": "code",
   "execution_count": null,
   "id": "c30f55c7",
   "metadata": {},
   "outputs": [],
   "source": [
    "shelter_df = shelter_df \\\n",
    "    .loc[shelter_df[\"City\"] == \"Calgary\", [\"City\", \"Date\", \"ShelterName\", \"Capacity\", \"Overnight\", \"ShelterType\", \"YEAR\", \"MONTH\"]] \\\n",
    "    .astype({\"Capacity\": \"int32\", \"Overnight\": \"int32\"})\n",
    "\n",
    "shelter_df.loc[:, \"QUARTER\"] = shelter_df[\"Date\"].dt.to_period(\"Q\").astype(\"str\")\n",
    "\n",
    "shelter_df = shelter_df \\\n",
    "    .loc[shelter_df[\"Date\"].dt.year >= 2017] \\\n",
    "    .loc[shelter_df[\"Capacity\"] > 0] \\\n",
    "    .groupby([\"QUARTER\", \"ShelterName\"]) \\\n",
    "    .sum([\"Capacity\", \"Overnight\"]) \\\n",
    "    .reset_index() \\\n",
    "    .set_index(\"ShelterName\")"
   ]
  },
  {
   "cell_type": "code",
   "execution_count": null,
   "id": "c4695816",
   "metadata": {},
   "outputs": [],
   "source": [
    "shelter_df[\"occupancy_rate\"] = shelter_df[\"Overnight\"] / shelter_df[\"Capacity\"]"
   ]
  },
  {
   "cell_type": "code",
   "execution_count": null,
   "id": "0eed9380",
   "metadata": {},
   "outputs": [],
   "source": [
    "import re\n",
    "import urllib.request\n",
    "\n",
    "from bs4 import BeautifulSoup, NavigableString"
   ]
  },
  {
   "cell_type": "code",
   "execution_count": null,
   "id": "3841a276",
   "metadata": {},
   "outputs": [],
   "source": [
    "user_agent = \"Mozilla/5.0 (Windows; U; Windows NT 5.1; en-US; rv:1.9.0.7) Gecko/2009021910 Firefox/3.0.7\"\n",
    "url = \"https://www.alberta.ca/find-shelters.aspx\"\n",
    "headers = {\n",
    "    \"User-Agent\": user_agent,\n",
    "}\n",
    "\n",
    "request = urllib.request.Request(url, None, headers)\n",
    "response = urllib.request.urlopen(request)\n",
    "data = response.read()\n",
    "\n",
    "shelter_soup = BeautifulSoup(data)"
   ]
  },
  {
   "cell_type": "code",
   "execution_count": null,
   "id": "520cf85f",
   "metadata": {},
   "outputs": [],
   "source": [
    "calgary_shelters_start = shelter_soup.find(id=\"goa-grid11591\").find(\n",
    "    lambda tag: tag.name == \"h3\" and tag.string == \"Calgary\"\n",
    ")\n",
    "\n",
    "calgary_shelters_end = shelter_soup.find(id=\"goa-grid11591\").find(\n",
    "    lambda tag: tag.name == \"h3\" and tag.string == \"Edmonton\"\n",
    ")"
   ]
  },
  {
   "cell_type": "code",
   "execution_count": null,
   "id": "33bce8d5",
   "metadata": {},
   "outputs": [],
   "source": [
    "shelters = []\n",
    "\n",
    "for sib in calgary_shelters_start.next_siblings:\n",
    "    if sib == calgary_shelters_end:\n",
    "        break\n",
    "    elif sib == \"\\n\":\n",
    "        continue\n",
    "    shelters.append(sib)"
   ]
  },
  {
   "cell_type": "code",
   "execution_count": null,
   "id": "76aa8a98",
   "metadata": {},
   "outputs": [],
   "source": [
    "shelter_names = [shelter.find(\"a\", target=\"_blank\").string for shelter in shelters]\n",
    "shelter_addresses = [\n",
    "    shelter.find(string=re.compile(\"^\\n[\\d]+|^\\n[\\w]+\\s[\\w]+,\\s[\\d]+\"))\n",
    "    for shelter in shelters\n",
    "]\n",
    "shelter_addresses = [str(s).strip().replace(\"\\xa0\", \" \") for s in shelter_addresses]"
   ]
  },
  {
   "cell_type": "code",
   "execution_count": null,
   "id": "364caeaf",
   "metadata": {},
   "outputs": [],
   "source": [
    "shelters_dict = {\n",
    "    name: address.split(\",\")[-1] for (name, address) in zip(shelter_names, shelter_addresses)\n",
    "}"
   ]
  },
  {
   "cell_type": "code",
   "execution_count": null,
   "id": "127f00ff",
   "metadata": {},
   "outputs": [],
   "source": [
    "adjusted_names = [\n",
    "    \"Alpha House\",\n",
    "    \"Brendas House\",\n",
    "    \"CDIC - Days Inn Overflow\",\n",
    "    \"Inn From the Cold - 3rd Floor\",\n",
    "    \"Calgary YWCA\",\n",
    "    \"Mustard Seed\",\n",
    "    \"Centre of Hope\",\n",
    "    \"daytime\"\n",
    "]"
   ]
  },
  {
   "cell_type": "code",
   "execution_count": null,
   "id": "864102ad",
   "metadata": {},
   "outputs": [],
   "source": [
    "adjusted_shelter_addresses = {}\n",
    "for new_name, old_name in zip(adjusted_names, shelter_names):\n",
    "    adjusted_shelter_addresses[new_name] = shelters_dict[old_name]\n",
    "\n",
    "adjusted_shelter_addresses.pop(\"daytime\", None)\n",
    "adjusted_shelter_addresses"
   ]
  },
  {
   "cell_type": "code",
   "execution_count": null,
   "id": "6e63f35e",
   "metadata": {},
   "outputs": [],
   "source": [
    "from geopy.geocoders import Nominatim"
   ]
  },
  {
   "cell_type": "code",
   "execution_count": null,
   "id": "b0525fd5",
   "metadata": {},
   "outputs": [],
   "source": [
    "geolocator = Nominatim(user_agent=\"DATA_601_project\")\n",
    "\n",
    "shelter_location_df = pd.DataFrame({\"ShelterName\": adjusted_shelter_addresses.keys(), \"ShelterAddress\": adjusted_shelter_addresses.values()})\n",
    "shelter_location_df[\"ShelterAddress\"] = shelter_location_df[\"ShelterAddress\"] + \" Calgary\"\n",
    "shelter_location_df[\"ShelterLongitude\"] = shelter_location_df[\"ShelterAddress\"].map(\n",
    "    lambda x: geolocator.geocode(x).longitude\n",
    ")\n",
    "shelter_location_df[\"ShelterLatitude\"] = shelter_location_df[\"ShelterAddress\"].map(\n",
    "    lambda x: geolocator.geocode(x).latitude\n",
    ")\n",
    "shelter_location_df = shelter_location_df.set_index(\"ShelterName\")\n",
    "shelter_location_df"
   ]
  },
  {
   "cell_type": "code",
   "execution_count": null,
   "id": "bb184f6b",
   "metadata": {},
   "outputs": [],
   "source": [
    "shelter_df = shelter_df.join(shelter_location_df, how=\"inner\")"
   ]
  },
  {
   "cell_type": "code",
   "execution_count": null,
   "id": "2f001057",
   "metadata": {},
   "outputs": [],
   "source": [
    "shelter_df.dtypes"
   ]
  },
  {
   "cell_type": "code",
   "execution_count": null,
   "id": "cc6bb616",
   "metadata": {},
   "outputs": [],
   "source": [
    "shelter_gdf = gpd.GeoDataFrame(\n",
    "    shelter_df, \n",
    "    geometry=gpd.points_from_xy(shelter_df.ShelterLongitude, shelter_df.ShelterLatitude)\n",
    ")\n",
    "shelter_gdf.crs = \"EPSG:4326\"\n",
    "shelter_gdf = shelter_gdf \\\n",
    "    .sort_values(\"occupancy_rate\")\n",
    "shelter_gdf[\"color\"] = (255 - shelter_gdf[\"occupancy_rate\"] * 255).astype(\"int64\").clip(0, None)"
   ]
  },
  {
   "cell_type": "code",
   "execution_count": null,
   "id": "023d9989",
   "metadata": {},
   "outputs": [],
   "source": [
    "shelter_gdf\n",
    "\n"
   ]
  },
  {
   "cell_type": "code",
   "execution_count": null,
   "id": "6aa95070",
   "metadata": {},
   "outputs": [],
   "source": [
    "# fig = px.choropleth_mapbox(crime_gdf, geojson=crime_gdf,\n",
    "#                            locations=crime_gdf.index, \n",
    "#                            color=\"Crime Count\",\n",
    "#                            color_continuous_scale = 'Oranges',\n",
    "#                            center={\"lat\": 51.0486, \"lon\": -114.0708}, # Calgary\n",
    "#                            mapbox_style=\"carto-positron\",\n",
    "#                            opacity=0.75,\n",
    "#                            zoom=9, \n",
    "#                            title = 'YYC Crime Rate (2019)')\n",
    "\n",
    "# for i in range(b.shape[0]):\n",
    "#     fig.add_trace(go.Scattermapbox(\n",
    "#         lat=[b.geometry.iloc[i].y],\n",
    "#         lon=[b.geometry.iloc[i].x],\n",
    "#         mode = 'markers',\n",
    "#         marker = go.scattermapbox.Marker(\n",
    "#             size = 20,\n",
    "#             color = f'rgb({b[\"color\"][i]}, {b[\"color\"][i]}, {b[\"color\"][i]})',\n",
    "#             opacity = 0.9,\n",
    "            \n",
    "#         ),\n",
    "#         line=dict(color=\"black\", width=10),\n",
    "#         hoverinfo = \"lon+lat+name\",\n",
    "#         name=b.index[i] \n",
    "#     ))\n",
    "\n",
    "# fig.update_layout(\n",
    "#     margin={\"r\":50,\"t\":50,\"l\":50,\"b\":50}, \n",
    "#     autosize=True,\n",
    "#     height=600,\n",
    "#     legend={\n",
    "#         \"yanchor\": \"top\",\n",
    "#         \"y\": 0.99,\n",
    "#         \"xanchor\": \"left\",\n",
    "#         \"x\": 0.01\n",
    "#     }\n",
    "# )\n",
    "# fig.show()"
   ]
  },
  {
   "cell_type": "code",
   "execution_count": null,
   "id": "e0c641bc",
   "metadata": {},
   "outputs": [],
   "source": [
    "fig = go.Figure()\n",
    "\n",
    "slice_lengths = []\n",
    "quarters = sorted(list(shelter_gdf[\"QUARTER\"].unique()))\n",
    "# choose the one with less data\n",
    "for quarter in quarters:\n",
    "        crime_slice = crime_gdf.loc[crime_gdf[\"QUARTER\"] == quarter]\n",
    "        shelter_slice = shelter_gdf.loc[shelter_gdf[\"QUARTER\"] == quarter]\n",
    "        slice_lengths.append(1 + shelter_slice.shape[0])\n",
    "\n",
    "        fig.add_trace(\n",
    "            go.Choroplethmapbox(\n",
    "                visible=False,\n",
    "                geojson=json.loads(crime_slice.to_json()),\n",
    "                locations=crime_slice.index, \n",
    "                z=crime_slice[\"Crime Count\"],\n",
    "                zmin=0,\n",
    "                zmax=651,\n",
    "                colorscale=\"Oranges\",\n",
    "                marker_opacity=0.75,\n",
    "                marker_line_width=0.5,\n",
    "                name=quarter\n",
    "            )\n",
    "        )\n",
    "\n",
    "        for i in range(shelter_slice.shape[0]):\n",
    "            c = f'rgb({shelter_slice[\"color\"][i]}, {shelter_slice[\"color\"][i]}, {shelter_slice[\"color\"][i]})'\n",
    "            fig.add_trace(\n",
    "                go.Scattermapbox(\n",
    "                    visible=False,\n",
    "                    lat=[shelter_slice.geometry.iloc[i].y],\n",
    "                    lon=[shelter_slice.geometry.iloc[i].x],\n",
    "                    mode = 'markers',\n",
    "                    marker = go.scattermapbox.Marker(\n",
    "                        size = 15,\n",
    "                        color = c,\n",
    "                        opacity = 0.9,                        \n",
    "                    ),\n",
    "                    line=dict(color=\"black\", width=10),\n",
    "                    hoverinfo = \"all\",\n",
    "                    name=f\"{shelter_slice.index[i]} ({shelter_slice['occupancy_rate'][i]:.3f})\"\n",
    "                )\n",
    "            )\n",
    "\n",
    "steps = []\n",
    "for i, slice in enumerate(slice_lengths):\n",
    "    begin = sum(slice_lengths[:i])\n",
    "    end = begin + slice\n",
    "    step = dict(\n",
    "        method=\"update\",\n",
    "        args=[{\"visible\": [False] * len(fig.data)},\n",
    "              {\"title\": \"YYC Crime Rate and Shelter Occupancy: \" + quarters[i]}],  # layout attribute\n",
    "        label=quarters[i]\n",
    "    )\n",
    "    step[\"args\"][0][\"visible\"][begin:end] = [True] * slice \n",
    "    steps.append(step)\n",
    "\n",
    "sliders = [dict(\n",
    "    active=10,\n",
    "    currentvalue={\"prefix\": \"Quarter: \"},\n",
    "    pad={\"t\": 50},\n",
    "    steps=steps\n",
    ")]\n",
    "\n",
    "\n",
    "fig.update_layout(\n",
    "    margin={\"r\":50,\"t\":50,\"l\":50,\"b\":50}, \n",
    "    autosize=True,\n",
    "    height=600,\n",
    "    legend={\n",
    "        \"yanchor\": \"top\",\n",
    "        \"y\": 0.99,\n",
    "        \"xanchor\": \"left\",\n",
    "        \"x\": 0.01\n",
    "    },\n",
    "    mapbox_style=\"carto-positron\",\n",
    "    mapbox_center={\"lat\": 51.0486, \"lon\": -114.0708}, # Calgary\n",
    "    mapbox_zoom=9,\n",
    "    sliders=sliders,\n",
    "    title=\"YYC Crime Rate and Shelter Occupancy\"\n",
    ")\n",
    "\n",
    "for i in range(70, 77):\n",
    "    fig.data[i].visible = True\n",
    "\n",
    "fig.show()"
   ]
  },
  {
   "cell_type": "code",
   "execution_count": null,
   "id": "81e6d7ab",
   "metadata": {},
   "outputs": [],
   "source": []
  },
  {
   "cell_type": "code",
   "execution_count": null,
   "id": "2d18ff8e",
   "metadata": {},
   "outputs": [],
   "source": []
  },
  {
   "cell_type": "code",
   "execution_count": null,
   "id": "9b442008",
   "metadata": {},
   "outputs": [],
   "source": []
  }
 ],
 "metadata": {
  "kernelspec": {
   "display_name": "Python 3 (ipykernel)",
   "language": "python",
   "name": "python3"
  },
  "language_info": {
   "codemirror_mode": {
    "name": "ipython",
    "version": 3
   },
   "file_extension": ".py",
   "mimetype": "text/x-python",
   "name": "python",
   "nbconvert_exporter": "python",
   "pygments_lexer": "ipython3",
   "version": "3.10.6"
  },
  "vscode": {
   "interpreter": {
    "hash": "0f6139928b4ae4c9a8028385b50b6d7f8c0fd73c15457ab7ccf142720c5af1af"
   }
  }
 },
 "nbformat": 4,
 "nbformat_minor": 5
}
