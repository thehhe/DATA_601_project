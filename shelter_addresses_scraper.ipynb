{
 "cells": [
  {
   "cell_type": "code",
   "execution_count": 9,
   "metadata": {},
   "outputs": [],
   "source": [
    "%load_ext lab_black"
   ]
  },
  {
   "cell_type": "code",
   "execution_count": 117,
   "metadata": {},
   "outputs": [],
   "source": [
    "import re\n",
    "import urllib.request\n",
    "\n",
    "from bs4 import BeautifulSoup, NavigableString"
   ]
  },
  {
   "cell_type": "code",
   "execution_count": 118,
   "metadata": {},
   "outputs": [],
   "source": [
    "user_agent = \"Mozilla/5.0 (Windows; U; Windows NT 5.1; en-US; rv:1.9.0.7) Gecko/2009021910 Firefox/3.0.7\"\n",
    "url = \"https://www.alberta.ca/find-shelters.aspx\"\n",
    "headers = {\n",
    "    \"User-Agent\": user_agent,\n",
    "}\n",
    "\n",
    "request = urllib.request.Request(url, None, headers)\n",
    "response = urllib.request.urlopen(request)\n",
    "data = response.read()\n",
    "\n",
    "shelter_soup = BeautifulSoup(data)"
   ]
  },
  {
   "cell_type": "code",
   "execution_count": 119,
   "metadata": {},
   "outputs": [],
   "source": [
    "calgary_shelters_start = shelter_soup.find(id=\"goa-grid11591\").find(\n",
    "    lambda tag: tag.name == \"h3\" and tag.string == \"Calgary\"\n",
    ")\n",
    "\n",
    "calgary_shelters_end = shelter_soup.find(id=\"goa-grid11591\").find(\n",
    "    lambda tag: tag.name == \"h3\" and tag.string == \"Edmonton\"\n",
    ")"
   ]
  },
  {
   "cell_type": "code",
   "execution_count": 120,
   "metadata": {},
   "outputs": [],
   "source": [
    "shelters = []\n",
    "\n",
    "for sib in calgary_shelters_start.next_siblings:\n",
    "    if sib == calgary_shelters_end:\n",
    "        break\n",
    "    elif sib == \"\\n\":\n",
    "        continue\n",
    "    shelters.append(sib)"
   ]
  },
  {
   "cell_type": "code",
   "execution_count": 121,
   "metadata": {},
   "outputs": [],
   "source": [
    "shelter_names = [shelter.find(\"a\", target=\"_blank\").string for shelter in shelters]\n",
    "shelter_addresses = [\n",
    "    shelter.find(string=re.compile(\"^\\n[\\d]+|^\\n[\\w]+\\s[\\w]+,\\s[\\d]+\"))\n",
    "    for shelter in shelters\n",
    "]\n",
    "shelter_addresses = [str(s).strip().replace(\"\\xa0\", \" \") for s in shelter_addresses]"
   ]
  },
  {
   "cell_type": "code",
   "execution_count": 122,
   "metadata": {},
   "outputs": [
    {
     "data": {
      "text/plain": [
       "{'Alpha House Shelter': '203 15 Avenue SE',\n",
       " 'Brenda’s House': '1921 28 Street SW',\n",
       " 'Calgary Drop-In & Rehab Centre': '1 Dermot Baldwin Way SE',\n",
       " 'Inn From the Cold': '110 11 Avenue SE',\n",
       " 'YW Calgary Emergency Shelter': '1715 17 Avenue SE',\n",
       " 'Mustard Seed Foothills Shelter': '7025 44 Street SE',\n",
       " 'Salvation Army Centre of Hope': '420 9 Avenue SE',\n",
       " 'Salvation Army Women’s Integrated Supportive Housing (WISH)': 'Wagner Place, 3013 15 Avenue SW'}"
      ]
     },
     "execution_count": 122,
     "metadata": {},
     "output_type": "execute_result"
    }
   ],
   "source": [
    "shelters_a = {\n",
    "    name: address for (name, address) in zip(shelter_names, shelter_addresses)\n",
    "}\n",
    "shelters_a"
   ]
  },
  {
   "cell_type": "code",
   "execution_count": null,
   "metadata": {},
   "outputs": [],
   "source": []
  }
 ],
 "metadata": {
  "kernelspec": {
   "display_name": "Python 3.10.6 64-bit ('3.10.6')",
   "language": "python",
   "name": "python3"
  },
  "language_info": {
   "codemirror_mode": {
    "name": "ipython",
    "version": 3
   },
   "file_extension": ".py",
   "mimetype": "text/x-python",
   "name": "python",
   "nbconvert_exporter": "python",
   "pygments_lexer": "ipython3",
   "version": "3.10.6"
  },
  "orig_nbformat": 4,
  "vscode": {
   "interpreter": {
    "hash": "0f6139928b4ae4c9a8028385b50b6d7f8c0fd73c15457ab7ccf142720c5af1af"
   }
  }
 },
 "nbformat": 4,
 "nbformat_minor": 2
}
