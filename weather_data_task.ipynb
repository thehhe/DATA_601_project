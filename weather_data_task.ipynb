{
 "cells": [
  {
   "cell_type": "code",
   "execution_count": 45,
   "id": "53c97221-46fc-4db2-83bf-39a01ed8fc7e",
   "metadata": {},
   "outputs": [],
   "source": [
    "import pandas as pd\n",
    "import numpy as np\n",
    "\n",
    "from datetime import datetime, timedelta"
   ]
  },
  {
   "cell_type": "code",
   "execution_count": 52,
   "id": "d4970966-61de-430d-b191-afea57b5f564",
   "metadata": {},
   "outputs": [
    {
     "data": {
      "text/html": [
       "<div>\n",
       "<style scoped>\n",
       "    .dataframe tbody tr th:only-of-type {\n",
       "        vertical-align: middle;\n",
       "    }\n",
       "\n",
       "    .dataframe tbody tr th {\n",
       "        vertical-align: top;\n",
       "    }\n",
       "\n",
       "    .dataframe thead th {\n",
       "        text-align: right;\n",
       "    }\n",
       "</style>\n",
       "<table border=\"1\" class=\"dataframe\">\n",
       "  <thead>\n",
       "    <tr style=\"text-align: right;\">\n",
       "      <th></th>\n",
       "      <th>Date</th>\n",
       "      <th>Air Temp. Min. (°C)</th>\n",
       "      <th>Precip. (mm)</th>\n",
       "    </tr>\n",
       "  </thead>\n",
       "  <tbody>\n",
       "    <tr>\n",
       "      <th>3499</th>\n",
       "      <td>2013-01-01</td>\n",
       "      <td>-8.54</td>\n",
       "      <td>0.0</td>\n",
       "    </tr>\n",
       "    <tr>\n",
       "      <th>3500</th>\n",
       "      <td>2013-01-02</td>\n",
       "      <td>-10.54</td>\n",
       "      <td>0.0</td>\n",
       "    </tr>\n",
       "    <tr>\n",
       "      <th>3501</th>\n",
       "      <td>2013-01-03</td>\n",
       "      <td>-7.53</td>\n",
       "      <td>0.0</td>\n",
       "    </tr>\n",
       "  </tbody>\n",
       "</table>\n",
       "</div>"
      ],
      "text/plain": [
       "           Date  Air Temp. Min. (°C)  Precip. (mm)\n",
       "3499 2013-01-01                -8.54           0.0\n",
       "3500 2013-01-02               -10.54           0.0\n",
       "3501 2013-01-03                -7.53           0.0"
      ]
     },
     "execution_count": 52,
     "metadata": {},
     "output_type": "execute_result"
    }
   ],
   "source": [
    "weather_df = pd.read_csv(\"data/weather_data.csv\", parse_dates=[\"Date\"])\n",
    "columns_to_keep = list(weather_df.columns)\n",
    "columns_to_keep.pop(0)\n",
    "weather_df = weather_df.loc[weather_df[\"Township\"] == \"T024R01W5\", columns_to_keep]\n",
    "weather_df.head(3)"
   ]
  },
  {
   "cell_type": "code",
   "execution_count": 53,
   "id": "c41c472b",
   "metadata": {},
   "outputs": [],
   "source": [
    "weather_df = weather_df.set_index(\"Date\")"
   ]
  },
  {
   "cell_type": "code",
   "execution_count": 54,
   "id": "918fcc61",
   "metadata": {},
   "outputs": [
    {
     "data": {
      "text/html": [
       "<div>\n",
       "<style scoped>\n",
       "    .dataframe tbody tr th:only-of-type {\n",
       "        vertical-align: middle;\n",
       "    }\n",
       "\n",
       "    .dataframe tbody tr th {\n",
       "        vertical-align: top;\n",
       "    }\n",
       "\n",
       "    .dataframe thead th {\n",
       "        text-align: right;\n",
       "    }\n",
       "</style>\n",
       "<table border=\"1\" class=\"dataframe\">\n",
       "  <thead>\n",
       "    <tr style=\"text-align: right;\">\n",
       "      <th></th>\n",
       "      <th>Air Temp. Min. (°C)</th>\n",
       "      <th>Precip. (mm)</th>\n",
       "    </tr>\n",
       "    <tr>\n",
       "      <th>Date</th>\n",
       "      <th></th>\n",
       "      <th></th>\n",
       "    </tr>\n",
       "  </thead>\n",
       "  <tbody>\n",
       "    <tr>\n",
       "      <th>2013-01-01</th>\n",
       "      <td>-8.54</td>\n",
       "      <td>0.0</td>\n",
       "    </tr>\n",
       "    <tr>\n",
       "      <th>2013-01-02</th>\n",
       "      <td>-10.54</td>\n",
       "      <td>0.0</td>\n",
       "    </tr>\n",
       "    <tr>\n",
       "      <th>2013-01-03</th>\n",
       "      <td>-7.53</td>\n",
       "      <td>0.0</td>\n",
       "    </tr>\n",
       "  </tbody>\n",
       "</table>\n",
       "</div>"
      ],
      "text/plain": [
       "            Air Temp. Min. (°C)  Precip. (mm)\n",
       "Date                                         \n",
       "2013-01-01                -8.54           0.0\n",
       "2013-01-02               -10.54           0.0\n",
       "2013-01-03                -7.53           0.0"
      ]
     },
     "execution_count": 54,
     "metadata": {},
     "output_type": "execute_result"
    }
   ],
   "source": [
    "weather_df.head(3)"
   ]
  },
  {
   "cell_type": "code",
   "execution_count": 119,
   "id": "f49b3279",
   "metadata": {},
   "outputs": [
    {
     "name": "stderr",
     "output_type": "stream",
     "text": [
      "/var/folders/sy/lsfn4dnx0x75hhnpd76qp_c40000gn/T/ipykernel_97904/1626330343.py:1: DtypeWarning: Columns (6,7) have mixed types. Specify dtype option on import or set low_memory=False.\n",
      "  shelter_df = pd.read_csv(\"data/2013-2022-emergency-shelter-occupancy-machine-readable.csv\", parse_dates=[\"Date\"])\n"
     ]
    },
    {
     "data": {
      "text/html": [
       "<div>\n",
       "<style scoped>\n",
       "    .dataframe tbody tr th:only-of-type {\n",
       "        vertical-align: middle;\n",
       "    }\n",
       "\n",
       "    .dataframe tbody tr th {\n",
       "        vertical-align: top;\n",
       "    }\n",
       "\n",
       "    .dataframe thead th {\n",
       "        text-align: right;\n",
       "    }\n",
       "</style>\n",
       "<table border=\"1\" class=\"dataframe\">\n",
       "  <thead>\n",
       "    <tr style=\"text-align: right;\">\n",
       "      <th></th>\n",
       "      <th>Date</th>\n",
       "      <th>City</th>\n",
       "      <th>ShelterType</th>\n",
       "      <th>ShelterName</th>\n",
       "      <th>Organization</th>\n",
       "      <th>Shelter</th>\n",
       "      <th>Capacity</th>\n",
       "      <th>Overnight</th>\n",
       "      <th>Daytime</th>\n",
       "      <th>YEAR</th>\n",
       "      <th>MONTH</th>\n",
       "    </tr>\n",
       "  </thead>\n",
       "  <tbody>\n",
       "    <tr>\n",
       "      <th>0</th>\n",
       "      <td>2013-04-01</td>\n",
       "      <td>Edmonton</td>\n",
       "      <td>Women Emergency</td>\n",
       "      <td>WEAC</td>\n",
       "      <td>WEAC</td>\n",
       "      <td></td>\n",
       "      <td>75</td>\n",
       "      <td>65</td>\n",
       "      <td></td>\n",
       "      <td>2013</td>\n",
       "      <td>4</td>\n",
       "    </tr>\n",
       "    <tr>\n",
       "      <th>1</th>\n",
       "      <td>2013-04-01</td>\n",
       "      <td>Edmonton</td>\n",
       "      <td>Intox</td>\n",
       "      <td>Hope Mission - Intox Centre</td>\n",
       "      <td>Hope Mission</td>\n",
       "      <td>Intox Centre</td>\n",
       "      <td>70</td>\n",
       "      <td>74</td>\n",
       "      <td></td>\n",
       "      <td>2013</td>\n",
       "      <td>4</td>\n",
       "    </tr>\n",
       "    <tr>\n",
       "      <th>2</th>\n",
       "      <td>2013-04-01</td>\n",
       "      <td>Edmonton</td>\n",
       "      <td>Adult Emergency</td>\n",
       "      <td>Hope Mission - Herb Jamieson Centre</td>\n",
       "      <td>Hope Mission</td>\n",
       "      <td>Herb Jamieson Centre</td>\n",
       "      <td>250</td>\n",
       "      <td>253</td>\n",
       "      <td></td>\n",
       "      <td>2013</td>\n",
       "      <td>4</td>\n",
       "    </tr>\n",
       "  </tbody>\n",
       "</table>\n",
       "</div>"
      ],
      "text/plain": [
       "        Date      City      ShelterType                          ShelterName  \\\n",
       "0 2013-04-01  Edmonton  Women Emergency                                 WEAC   \n",
       "1 2013-04-01  Edmonton            Intox          Hope Mission - Intox Centre   \n",
       "2 2013-04-01  Edmonton  Adult Emergency  Hope Mission - Herb Jamieson Centre   \n",
       "\n",
       "   Organization               Shelter Capacity Overnight Daytime  YEAR  MONTH  \n",
       "0          WEAC                             75        65          2013      4  \n",
       "1  Hope Mission          Intox Centre       70        74          2013      4  \n",
       "2  Hope Mission  Herb Jamieson Centre      250       253          2013      4  "
      ]
     },
     "execution_count": 119,
     "metadata": {},
     "output_type": "execute_result"
    }
   ],
   "source": [
    "shelter_df = pd.read_csv(\"data/2013-2022-emergency-shelter-occupancy-machine-readable.csv\", parse_dates=[\"Date\"])\n",
    "# manually add the missing value for the Brenda House 2022-04-01 capacity\n",
    "shelter_df.loc[(shelter_df[\"Date\"] == \"2022-04-01\") & (shelter_df[\"ShelterName\"] == \"Brendas House\"), \"Capacity\"] = 60\n",
    "shelter_df.head(3)"
   ]
  },
  {
   "cell_type": "code",
   "execution_count": 120,
   "id": "c30f55c7",
   "metadata": {},
   "outputs": [],
   "source": [
    "shelter_df = shelter_df.loc[shelter_df[\"City\"] == \"Calgary\", [\"City\", \"Date\", \"ShelterName\", \"Capacity\", \"Overnight\"]]\n",
    "# shelter_df[\"Capacity\"].astype(\"int64\")"
   ]
  },
  {
   "cell_type": "code",
   "execution_count": 121,
   "id": "8f634d68",
   "metadata": {},
   "outputs": [
    {
     "data": {
      "text/html": [
       "<div>\n",
       "<style scoped>\n",
       "    .dataframe tbody tr th:only-of-type {\n",
       "        vertical-align: middle;\n",
       "    }\n",
       "\n",
       "    .dataframe tbody tr th {\n",
       "        vertical-align: top;\n",
       "    }\n",
       "\n",
       "    .dataframe thead th {\n",
       "        text-align: right;\n",
       "    }\n",
       "</style>\n",
       "<table border=\"1\" class=\"dataframe\">\n",
       "  <thead>\n",
       "    <tr style=\"text-align: right;\">\n",
       "      <th></th>\n",
       "      <th>City</th>\n",
       "      <th>Date</th>\n",
       "      <th>ShelterName</th>\n",
       "      <th>Capacity</th>\n",
       "      <th>Overnight</th>\n",
       "    </tr>\n",
       "  </thead>\n",
       "  <tbody>\n",
       "    <tr>\n",
       "      <th>17</th>\n",
       "      <td>Calgary</td>\n",
       "      <td>2013-04-01</td>\n",
       "      <td>River Front</td>\n",
       "      <td>725</td>\n",
       "      <td>700</td>\n",
       "    </tr>\n",
       "    <tr>\n",
       "      <th>18</th>\n",
       "      <td>Calgary</td>\n",
       "      <td>2013-04-01</td>\n",
       "      <td>River Front - Winter Emergency</td>\n",
       "      <td>140</td>\n",
       "      <td>90</td>\n",
       "    </tr>\n",
       "    <tr>\n",
       "      <th>19</th>\n",
       "      <td>Calgary</td>\n",
       "      <td>2013-04-01</td>\n",
       "      <td>River Front - Short Term Supportive</td>\n",
       "      <td>270</td>\n",
       "      <td>262</td>\n",
       "    </tr>\n",
       "    <tr>\n",
       "      <th>20</th>\n",
       "      <td>Calgary</td>\n",
       "      <td>2013-04-01</td>\n",
       "      <td>Hillhurst Centre</td>\n",
       "      <td>125</td>\n",
       "      <td>117</td>\n",
       "    </tr>\n",
       "    <tr>\n",
       "      <th>21</th>\n",
       "      <td>Calgary</td>\n",
       "      <td>2013-04-01</td>\n",
       "      <td>Wagner Centre</td>\n",
       "      <td>23</td>\n",
       "      <td>12</td>\n",
       "    </tr>\n",
       "  </tbody>\n",
       "</table>\n",
       "</div>"
      ],
      "text/plain": [
       "       City       Date                          ShelterName Capacity Overnight\n",
       "17  Calgary 2013-04-01                          River Front      725       700\n",
       "18  Calgary 2013-04-01       River Front - Winter Emergency      140        90\n",
       "19  Calgary 2013-04-01  River Front - Short Term Supportive      270       262\n",
       "20  Calgary 2013-04-01                     Hillhurst Centre      125       117\n",
       "21  Calgary 2013-04-01                        Wagner Centre       23        12"
      ]
     },
     "execution_count": 121,
     "metadata": {},
     "output_type": "execute_result"
    }
   ],
   "source": [
    "shelter_df.head()"
   ]
  },
  {
   "cell_type": "code",
   "execution_count": 122,
   "id": "98800db6",
   "metadata": {},
   "outputs": [],
   "source": [
    "shelter_df[\"Capacity\"] = shelter_df[\"Capacity\"].astype(\"int32\")"
   ]
  },
  {
   "cell_type": "code",
   "execution_count": 107,
   "id": "96076051",
   "metadata": {},
   "outputs": [
    {
     "data": {
      "text/html": [
       "<div>\n",
       "<style scoped>\n",
       "    .dataframe tbody tr th:only-of-type {\n",
       "        vertical-align: middle;\n",
       "    }\n",
       "\n",
       "    .dataframe tbody tr th {\n",
       "        vertical-align: top;\n",
       "    }\n",
       "\n",
       "    .dataframe thead th {\n",
       "        text-align: right;\n",
       "    }\n",
       "</style>\n",
       "<table border=\"1\" class=\"dataframe\">\n",
       "  <thead>\n",
       "    <tr style=\"text-align: right;\">\n",
       "      <th></th>\n",
       "      <th>City</th>\n",
       "      <th>Date</th>\n",
       "      <th>ShelterName</th>\n",
       "      <th>Capacity</th>\n",
       "      <th>Overnight</th>\n",
       "    </tr>\n",
       "  </thead>\n",
       "  <tbody>\n",
       "  </tbody>\n",
       "</table>\n",
       "</div>"
      ],
      "text/plain": [
       "Empty DataFrame\n",
       "Columns: [City, Date, ShelterName, Capacity, Overnight]\n",
       "Index: []"
      ]
     },
     "execution_count": 107,
     "metadata": {},
     "output_type": "execute_result"
    }
   ],
   "source": [
    "shelter_df.loc[shelter_df[\"Capacity\"] == \" \"]"
   ]
  },
  {
   "cell_type": "code",
   "execution_count": 108,
   "id": "9b305773",
   "metadata": {},
   "outputs": [
    {
     "data": {
      "text/html": [
       "<div>\n",
       "<style scoped>\n",
       "    .dataframe tbody tr th:only-of-type {\n",
       "        vertical-align: middle;\n",
       "    }\n",
       "\n",
       "    .dataframe tbody tr th {\n",
       "        vertical-align: top;\n",
       "    }\n",
       "\n",
       "    .dataframe thead th {\n",
       "        text-align: right;\n",
       "    }\n",
       "</style>\n",
       "<table border=\"1\" class=\"dataframe\">\n",
       "  <thead>\n",
       "    <tr style=\"text-align: right;\">\n",
       "      <th></th>\n",
       "      <th>City</th>\n",
       "      <th>ShelterName</th>\n",
       "      <th>Capacity</th>\n",
       "      <th>Overnight</th>\n",
       "    </tr>\n",
       "    <tr>\n",
       "      <th>Date</th>\n",
       "      <th></th>\n",
       "      <th></th>\n",
       "      <th></th>\n",
       "      <th></th>\n",
       "    </tr>\n",
       "  </thead>\n",
       "  <tbody>\n",
       "    <tr>\n",
       "      <th>2022-03-29</th>\n",
       "      <td>Calgary</td>\n",
       "      <td>Brendas House</td>\n",
       "      <td>60</td>\n",
       "      <td>45</td>\n",
       "    </tr>\n",
       "    <tr>\n",
       "      <th>2022-03-30</th>\n",
       "      <td>Calgary</td>\n",
       "      <td>Brendas House</td>\n",
       "      <td>60</td>\n",
       "      <td>50</td>\n",
       "    </tr>\n",
       "    <tr>\n",
       "      <th>2022-03-31</th>\n",
       "      <td>Calgary</td>\n",
       "      <td>Brendas House</td>\n",
       "      <td>60</td>\n",
       "      <td>50</td>\n",
       "    </tr>\n",
       "    <tr>\n",
       "      <th>2022-04-01</th>\n",
       "      <td>Calgary</td>\n",
       "      <td>Brendas House</td>\n",
       "      <td>60</td>\n",
       "      <td>45</td>\n",
       "    </tr>\n",
       "    <tr>\n",
       "      <th>2022-04-02</th>\n",
       "      <td>Calgary</td>\n",
       "      <td>Brendas House</td>\n",
       "      <td>60</td>\n",
       "      <td>41</td>\n",
       "    </tr>\n",
       "    <tr>\n",
       "      <th>2022-04-03</th>\n",
       "      <td>Calgary</td>\n",
       "      <td>Brendas House</td>\n",
       "      <td>60</td>\n",
       "      <td>41</td>\n",
       "    </tr>\n",
       "  </tbody>\n",
       "</table>\n",
       "</div>"
      ],
      "text/plain": [
       "               City    ShelterName  Capacity  Overnight\n",
       "Date                                                   \n",
       "2022-03-29  Calgary  Brendas House        60         45\n",
       "2022-03-30  Calgary  Brendas House        60         50\n",
       "2022-03-31  Calgary  Brendas House        60         50\n",
       "2022-04-01  Calgary  Brendas House        60         45\n",
       "2022-04-02  Calgary  Brendas House        60         41\n",
       "2022-04-03  Calgary  Brendas House        60         41"
      ]
     },
     "execution_count": 108,
     "metadata": {},
     "output_type": "execute_result"
    }
   ],
   "source": [
    "a = shelter_df.set_index(\"Date\").loc[[\"2022-03-29\", \"2022-03-30\", \"2022-03-31\", \"2022-04-01\", \"2022-04-02\", \"2022-04-03\"]]\n",
    "a.loc[a[\"ShelterName\"] == \"Brendas House\"]"
   ]
  },
  {
   "cell_type": "code",
   "execution_count": 123,
   "id": "98e514dd",
   "metadata": {},
   "outputs": [],
   "source": [
    "shelter_df[\"Overnight\"] = shelter_df[\"Overnight\"].astype(\"int32\")"
   ]
  },
  {
   "cell_type": "code",
   "execution_count": 110,
   "id": "71ee54cc",
   "metadata": {},
   "outputs": [
    {
     "data": {
      "text/plain": [
       "City                   object\n",
       "Date           datetime64[ns]\n",
       "ShelterName            object\n",
       "Capacity                int32\n",
       "Overnight               int32\n",
       "dtype: object"
      ]
     },
     "execution_count": 110,
     "metadata": {},
     "output_type": "execute_result"
    }
   ],
   "source": [
    "shelter_df.dtypes"
   ]
  },
  {
   "cell_type": "code",
   "execution_count": 111,
   "id": "077089a1",
   "metadata": {},
   "outputs": [],
   "source": [
    "# shelter_df[\"occupancy_rate\"] = shelter_df[\"Overnight\"] / shelter_df[\"Capacity\"]"
   ]
  },
  {
   "cell_type": "code",
   "execution_count": 112,
   "id": "1cbe83d4",
   "metadata": {},
   "outputs": [
    {
     "data": {
      "text/html": [
       "<div>\n",
       "<style scoped>\n",
       "    .dataframe tbody tr th:only-of-type {\n",
       "        vertical-align: middle;\n",
       "    }\n",
       "\n",
       "    .dataframe tbody tr th {\n",
       "        vertical-align: top;\n",
       "    }\n",
       "\n",
       "    .dataframe thead th {\n",
       "        text-align: right;\n",
       "    }\n",
       "</style>\n",
       "<table border=\"1\" class=\"dataframe\">\n",
       "  <thead>\n",
       "    <tr style=\"text-align: right;\">\n",
       "      <th></th>\n",
       "      <th>City</th>\n",
       "      <th>Date</th>\n",
       "      <th>ShelterName</th>\n",
       "      <th>Capacity</th>\n",
       "      <th>Overnight</th>\n",
       "      <th>occupancy_rate</th>\n",
       "    </tr>\n",
       "  </thead>\n",
       "  <tbody>\n",
       "    <tr>\n",
       "      <th>17</th>\n",
       "      <td>Calgary</td>\n",
       "      <td>2013-04-01</td>\n",
       "      <td>River Front</td>\n",
       "      <td>725</td>\n",
       "      <td>700</td>\n",
       "      <td>0.965517</td>\n",
       "    </tr>\n",
       "    <tr>\n",
       "      <th>18</th>\n",
       "      <td>Calgary</td>\n",
       "      <td>2013-04-01</td>\n",
       "      <td>River Front - Winter Emergency</td>\n",
       "      <td>140</td>\n",
       "      <td>90</td>\n",
       "      <td>0.642857</td>\n",
       "    </tr>\n",
       "    <tr>\n",
       "      <th>19</th>\n",
       "      <td>Calgary</td>\n",
       "      <td>2013-04-01</td>\n",
       "      <td>River Front - Short Term Supportive</td>\n",
       "      <td>270</td>\n",
       "      <td>262</td>\n",
       "      <td>0.970370</td>\n",
       "    </tr>\n",
       "  </tbody>\n",
       "</table>\n",
       "</div>"
      ],
      "text/plain": [
       "       City       Date                          ShelterName  Capacity  \\\n",
       "17  Calgary 2013-04-01                          River Front       725   \n",
       "18  Calgary 2013-04-01       River Front - Winter Emergency       140   \n",
       "19  Calgary 2013-04-01  River Front - Short Term Supportive       270   \n",
       "\n",
       "    Overnight  occupancy_rate  \n",
       "17        700        0.965517  \n",
       "18         90        0.642857  \n",
       "19        262        0.970370  "
      ]
     },
     "execution_count": 112,
     "metadata": {},
     "output_type": "execute_result"
    }
   ],
   "source": [
    "# shelter_df.head(3)"
   ]
  },
  {
   "cell_type": "code",
   "execution_count": 113,
   "id": "3314f8cb",
   "metadata": {},
   "outputs": [],
   "source": []
  },
  {
   "cell_type": "code",
   "execution_count": 125,
   "id": "a7ed68ac",
   "metadata": {},
   "outputs": [
    {
     "data": {
      "text/html": [
       "<div>\n",
       "<style scoped>\n",
       "    .dataframe tbody tr th:only-of-type {\n",
       "        vertical-align: middle;\n",
       "    }\n",
       "\n",
       "    .dataframe tbody tr th {\n",
       "        vertical-align: top;\n",
       "    }\n",
       "\n",
       "    .dataframe thead th {\n",
       "        text-align: right;\n",
       "    }\n",
       "</style>\n",
       "<table border=\"1\" class=\"dataframe\">\n",
       "  <thead>\n",
       "    <tr style=\"text-align: right;\">\n",
       "      <th></th>\n",
       "      <th>City</th>\n",
       "      <th>Date</th>\n",
       "      <th>ShelterName</th>\n",
       "      <th>Capacity</th>\n",
       "      <th>Overnight</th>\n",
       "    </tr>\n",
       "  </thead>\n",
       "  <tbody>\n",
       "    <tr>\n",
       "      <th>17</th>\n",
       "      <td>Calgary</td>\n",
       "      <td>2013-04-01</td>\n",
       "      <td>River Front</td>\n",
       "      <td>725</td>\n",
       "      <td>700</td>\n",
       "    </tr>\n",
       "    <tr>\n",
       "      <th>18</th>\n",
       "      <td>Calgary</td>\n",
       "      <td>2013-04-01</td>\n",
       "      <td>River Front - Winter Emergency</td>\n",
       "      <td>140</td>\n",
       "      <td>90</td>\n",
       "    </tr>\n",
       "    <tr>\n",
       "      <th>19</th>\n",
       "      <td>Calgary</td>\n",
       "      <td>2013-04-01</td>\n",
       "      <td>River Front - Short Term Supportive</td>\n",
       "      <td>270</td>\n",
       "      <td>262</td>\n",
       "    </tr>\n",
       "  </tbody>\n",
       "</table>\n",
       "</div>"
      ],
      "text/plain": [
       "       City       Date                          ShelterName  Capacity  \\\n",
       "17  Calgary 2013-04-01                          River Front       725   \n",
       "18  Calgary 2013-04-01       River Front - Winter Emergency       140   \n",
       "19  Calgary 2013-04-01  River Front - Short Term Supportive       270   \n",
       "\n",
       "    Overnight  \n",
       "17        700  \n",
       "18         90  \n",
       "19        262  "
      ]
     },
     "execution_count": 125,
     "metadata": {},
     "output_type": "execute_result"
    }
   ],
   "source": [
    "shelter_df.head(3)"
   ]
  },
  {
   "cell_type": "code",
   "execution_count": 129,
   "id": "1ef12468",
   "metadata": {},
   "outputs": [],
   "source": [
    "shelter_df = shelter_df.groupby(\"Date\").sum([\"Capacity\", \"Overnight\"])"
   ]
  },
  {
   "cell_type": "code",
   "execution_count": 130,
   "id": "c4695816",
   "metadata": {},
   "outputs": [],
   "source": [
    "shelter_df[\"occupancy_rate\"] = shelter_df[\"Overnight\"] / shelter_df[\"Capacity\"]"
   ]
  },
  {
   "cell_type": "code",
   "execution_count": 131,
   "id": "5146683a",
   "metadata": {},
   "outputs": [
    {
     "data": {
      "text/html": [
       "<div>\n",
       "<style scoped>\n",
       "    .dataframe tbody tr th:only-of-type {\n",
       "        vertical-align: middle;\n",
       "    }\n",
       "\n",
       "    .dataframe tbody tr th {\n",
       "        vertical-align: top;\n",
       "    }\n",
       "\n",
       "    .dataframe thead th {\n",
       "        text-align: right;\n",
       "    }\n",
       "</style>\n",
       "<table border=\"1\" class=\"dataframe\">\n",
       "  <thead>\n",
       "    <tr style=\"text-align: right;\">\n",
       "      <th></th>\n",
       "      <th>Capacity</th>\n",
       "      <th>Overnight</th>\n",
       "      <th>occupancy_rate</th>\n",
       "    </tr>\n",
       "    <tr>\n",
       "      <th>Date</th>\n",
       "      <th></th>\n",
       "      <th></th>\n",
       "      <th></th>\n",
       "    </tr>\n",
       "  </thead>\n",
       "  <tbody>\n",
       "    <tr>\n",
       "      <th>2013-04-01</th>\n",
       "      <td>2575</td>\n",
       "      <td>2285</td>\n",
       "      <td>0.887379</td>\n",
       "    </tr>\n",
       "    <tr>\n",
       "      <th>2013-04-02</th>\n",
       "      <td>2575</td>\n",
       "      <td>2250</td>\n",
       "      <td>0.873786</td>\n",
       "    </tr>\n",
       "    <tr>\n",
       "      <th>2013-04-03</th>\n",
       "      <td>2575</td>\n",
       "      <td>2365</td>\n",
       "      <td>0.918447</td>\n",
       "    </tr>\n",
       "    <tr>\n",
       "      <th>2013-04-04</th>\n",
       "      <td>2575</td>\n",
       "      <td>2307</td>\n",
       "      <td>0.895922</td>\n",
       "    </tr>\n",
       "    <tr>\n",
       "      <th>2013-04-05</th>\n",
       "      <td>2575</td>\n",
       "      <td>2221</td>\n",
       "      <td>0.862524</td>\n",
       "    </tr>\n",
       "  </tbody>\n",
       "</table>\n",
       "</div>"
      ],
      "text/plain": [
       "            Capacity  Overnight  occupancy_rate\n",
       "Date                                           \n",
       "2013-04-01      2575       2285        0.887379\n",
       "2013-04-02      2575       2250        0.873786\n",
       "2013-04-03      2575       2365        0.918447\n",
       "2013-04-04      2575       2307        0.895922\n",
       "2013-04-05      2575       2221        0.862524"
      ]
     },
     "execution_count": 131,
     "metadata": {},
     "output_type": "execute_result"
    }
   ],
   "source": [
    "shelter_df.head()"
   ]
  },
  {
   "cell_type": "code",
   "execution_count": 149,
   "id": "1c92b069",
   "metadata": {},
   "outputs": [],
   "source": [
    "joined_df = weather_df.join(shelter_df, how=\"inner\")"
   ]
  },
  {
   "cell_type": "code",
   "execution_count": 150,
   "id": "4d58461d",
   "metadata": {},
   "outputs": [
    {
     "data": {
      "text/html": [
       "<div>\n",
       "<style scoped>\n",
       "    .dataframe tbody tr th:only-of-type {\n",
       "        vertical-align: middle;\n",
       "    }\n",
       "\n",
       "    .dataframe tbody tr th {\n",
       "        vertical-align: top;\n",
       "    }\n",
       "\n",
       "    .dataframe thead th {\n",
       "        text-align: right;\n",
       "    }\n",
       "</style>\n",
       "<table border=\"1\" class=\"dataframe\">\n",
       "  <thead>\n",
       "    <tr style=\"text-align: right;\">\n",
       "      <th></th>\n",
       "      <th>Air Temp. Min. (°C)</th>\n",
       "      <th>Precip. (mm)</th>\n",
       "      <th>Capacity</th>\n",
       "      <th>Overnight</th>\n",
       "      <th>occupancy_rate</th>\n",
       "    </tr>\n",
       "    <tr>\n",
       "      <th>Date</th>\n",
       "      <th></th>\n",
       "      <th></th>\n",
       "      <th></th>\n",
       "      <th></th>\n",
       "      <th></th>\n",
       "    </tr>\n",
       "  </thead>\n",
       "  <tbody>\n",
       "    <tr>\n",
       "      <th>2013-04-01</th>\n",
       "      <td>-4.31</td>\n",
       "      <td>0.00</td>\n",
       "      <td>2575</td>\n",
       "      <td>2285</td>\n",
       "      <td>0.887379</td>\n",
       "    </tr>\n",
       "    <tr>\n",
       "      <th>2013-04-02</th>\n",
       "      <td>-3.08</td>\n",
       "      <td>0.00</td>\n",
       "      <td>2575</td>\n",
       "      <td>2250</td>\n",
       "      <td>0.873786</td>\n",
       "    </tr>\n",
       "    <tr>\n",
       "      <th>2013-04-03</th>\n",
       "      <td>-0.96</td>\n",
       "      <td>0.22</td>\n",
       "      <td>2575</td>\n",
       "      <td>2365</td>\n",
       "      <td>0.918447</td>\n",
       "    </tr>\n",
       "    <tr>\n",
       "      <th>2013-04-04</th>\n",
       "      <td>-2.49</td>\n",
       "      <td>0.00</td>\n",
       "      <td>2575</td>\n",
       "      <td>2307</td>\n",
       "      <td>0.895922</td>\n",
       "    </tr>\n",
       "    <tr>\n",
       "      <th>2013-04-05</th>\n",
       "      <td>-3.17</td>\n",
       "      <td>0.00</td>\n",
       "      <td>2575</td>\n",
       "      <td>2221</td>\n",
       "      <td>0.862524</td>\n",
       "    </tr>\n",
       "  </tbody>\n",
       "</table>\n",
       "</div>"
      ],
      "text/plain": [
       "            Air Temp. Min. (°C)  Precip. (mm)  Capacity  Overnight  \\\n",
       "Date                                                                 \n",
       "2013-04-01                -4.31          0.00      2575       2285   \n",
       "2013-04-02                -3.08          0.00      2575       2250   \n",
       "2013-04-03                -0.96          0.22      2575       2365   \n",
       "2013-04-04                -2.49          0.00      2575       2307   \n",
       "2013-04-05                -3.17          0.00      2575       2221   \n",
       "\n",
       "            occupancy_rate  \n",
       "Date                        \n",
       "2013-04-01        0.887379  \n",
       "2013-04-02        0.873786  \n",
       "2013-04-03        0.918447  \n",
       "2013-04-04        0.895922  \n",
       "2013-04-05        0.862524  "
      ]
     },
     "execution_count": 150,
     "metadata": {},
     "output_type": "execute_result"
    }
   ],
   "source": [
    "joined_df.head()"
   ]
  },
  {
   "cell_type": "code",
   "execution_count": 152,
   "id": "2f76a364",
   "metadata": {},
   "outputs": [
    {
     "data": {
      "text/plain": [
       "<AxesSubplot:xlabel='Air Temp. Min. (°C)', ylabel='occupancy_rate'>"
      ]
     },
     "execution_count": 152,
     "metadata": {},
     "output_type": "execute_result"
    },
    {
     "data": {
      "image/png": "[encoded data removed]",
      "text/plain": [
       "<Figure size 640x480 with 1 Axes>"
      ]
     },
     "metadata": {},
     "output_type": "display_data"
    }
   ],
   "source": [
    "# joined_df[\"Air Temp. Min. (°C)\"] = (joined_df[\"Air Temp. Min. (°C)\"] - joined_df[\"Air Temp. Min. (°C)\"].min()) / (joined_df[\"Air Temp. Min. (°C)\"].max() - joined_df[\"Air Temp. Min. (°C)\"].min())\n",
    "# joined_df.loc[joined_df.index.dt.year == 2019, [\"Air Temp. Min. (°C)\", \"occupancy_rate\"]].plot()\n",
    "a = joined_df.reset_index()\n",
    "a.loc[a[\"Date\"].dt.year == 2019, [\"Air Temp. Min. (°C)\", \"occupancy_rate\"]].plot(kind=\"scatter\", x = \"Air Temp. Min. (°C)\", y = \"occupancy_rate\")"
   ]
  },
  {
   "cell_type": "code",
   "execution_count": 153,
   "id": "8e4292d1",
   "metadata": {},
   "outputs": [
    {
     "data": {
      "text/plain": [
       "<AxesSubplot:xlabel='Precip. (mm)', ylabel='occupancy_rate'>"
      ]
     },
     "execution_count": 153,
     "metadata": {},
     "output_type": "execute_result"
    },
    {
     "data": {
      "image/png": "[encoded data removed]",
      "text/plain": [
       "<Figure size 640x480 with 1 Axes>"
      ]
     },
     "metadata": {},
     "output_type": "display_data"
    }
   ],
   "source": [
    "a.loc[a[\"Date\"].dt.year == 2019, [\"Precip. (mm)\", \"occupancy_rate\"]].plot(kind=\"scatter\", x = \"Precip. (mm)\", y = \"occupancy_rate\")"
   ]
  },
  {
   "cell_type": "code",
   "execution_count": 155,
   "id": "aca2ca54",
   "metadata": {},
   "outputs": [
    {
     "data": {
      "text/plain": [
       "<AxesSubplot:xlabel='Precip. (mm)', ylabel='occupancy_rate'>"
      ]
     },
     "execution_count": 155,
     "metadata": {},
     "output_type": "execute_result"
    },
    {
     "data": {
      "image/png": "[encoded data removed]",
      "text/plain": [
       "<Figure size 640x480 with 1 Axes>"
      ]
     },
     "metadata": {},
     "output_type": "display_data"
    }
   ],
   "source": [
    "a.loc[(a[\"Date\"].dt.year == 2019) & (a[\"Precip. (mm)\"] < 5) & (a[\"Precip. (mm)\"] > 0), [\"Precip. (mm)\", \"occupancy_rate\"]].plot(kind=\"scatter\", x = \"Precip. (mm)\", y = \"occupancy_rate\")"
   ]
  },
  {
   "cell_type": "code",
   "execution_count": 168,
   "id": "1a750718",
   "metadata": {},
   "outputs": [
    {
     "data": {
      "text/plain": [
       "0       0.961646\n",
       "1       0.937994\n",
       "2       1.046846\n",
       "3       1.021263\n",
       "4       1.026975\n",
       "          ...   \n",
       "3372    0.964864\n",
       "3373    0.962403\n",
       "3374    1.008752\n",
       "3375    1.004509\n",
       "3376         NaN\n",
       "Name: temp_chain_index, Length: 3377, dtype: float64"
      ]
     },
     "execution_count": 168,
     "metadata": {},
     "output_type": "execute_result"
    }
   ],
   "source": [
    "a[\"prev_temp\"] = a[\"Air Temp. Min. (°C)\"].shift(-1) - a[\"Air Temp. Min. (°C)\"].min() + 1\n",
    "a[\"temp_chain_index\"] = (a[\"Air Temp. Min. (°C)\"] - a[\"Air Temp. Min. (°C)\"].min() + 1) / a[\"prev_temp\"]\n",
    "a[\"temp_chain_index\"]"
   ]
  },
  {
   "cell_type": "code",
   "execution_count": 169,
   "id": "d08820b7",
   "metadata": {},
   "outputs": [
    {
     "data": {
      "text/plain": [
       "<AxesSubplot:>"
      ]
     },
     "execution_count": 169,
     "metadata": {},
     "output_type": "execute_result"
    },
    {
     "data": {
      "image/png": "[encoded data removed]",
      "text/plain": [
       "<Figure size 640x480 with 1 Axes>"
      ]
     },
     "metadata": {},
     "output_type": "display_data"
    },
    {
     "data": {
      "image/png": "[encoded data removed]",
      "text/plain": [
       "<Figure size 640x480 with 1 Axes>"
      ]
     },
     "metadata": {},
     "output_type": "display_data"
    }
   ],
   "source": [
    "a.loc[a[\"Date\"].dt.year == 2019, [\"temp_chain_index\"]].plot()\n",
    "a.loc[a[\"Date\"].dt.year == 2019, [\"occupancy_rate\"]].plot()"
   ]
  },
  {
   "cell_type": "markdown",
   "id": "af672346",
   "metadata": {},
   "source": [
    "Things to do:\n",
    "* additional filtering to eliminate non-homeless shelters (emergency)\n",
    "* look into the significance of winter shelters\n",
    "\n",
    "* look into the shift between occupancy rate and temperature (days = 0, 1, 3, 7)\n",
    "\n",
    "* create plots for 2021\n",
    "\n",
    "* correlation coeff and regression line "
   ]
  },
  {
   "cell_type": "markdown",
   "id": "ae16dd5d",
   "metadata": {},
   "source": []
  }
 ],
 "metadata": {
  "kernelspec": {
   "display_name": "Python 3.10.6 64-bit ('3.10.6')",
   "language": "python",
   "name": "python3"
  },
  "language_info": {
   "codemirror_mode": {
    "name": "ipython",
    "version": 3
   },
   "file_extension": ".py",
   "mimetype": "text/x-python",
   "name": "python",
   "nbconvert_exporter": "python",
   "pygments_lexer": "ipython3",
   "version": "3.10.6"
  },
  "vscode": {
   "interpreter": {
    "hash": "0f6139928b4ae4c9a8028385b50b6d7f8c0fd73c15457ab7ccf142720c5af1af"
   }
  }
 },
 "nbformat": 4,
 "nbformat_minor": 5
}
