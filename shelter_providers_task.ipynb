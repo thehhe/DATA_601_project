{
 "cells": [
  {
   "cell_type": "code",
   "execution_count": 188,
   "id": "53c97221-46fc-4db2-83bf-39a01ed8fc7e",
   "metadata": {},
   "outputs": [],
   "source": [
    "import pandas as pd\n",
    "import numpy as np\n",
    "import matplotlib.pyplot as plt\n",
    "\n",
    "from datetime import datetime, timedelta"
   ]
  },
  {
   "cell_type": "code",
   "execution_count": 189,
   "id": "f49b3279",
   "metadata": {},
   "outputs": [
    {
     "name": "stderr",
     "output_type": "stream",
     "text": [
      "/var/folders/sy/lsfn4dnx0x75hhnpd76qp_c40000gn/T/ipykernel_29628/1383388227.py:1: DtypeWarning:\n",
      "\n",
      "Columns (6,7) have mixed types. Specify dtype option on import or set low_memory=False.\n",
      "\n"
     ]
    },
    {
     "data": {
      "text/html": [
       "<div>\n",
       "<style scoped>\n",
       "    .dataframe tbody tr th:only-of-type {\n",
       "        vertical-align: middle;\n",
       "    }\n",
       "\n",
       "    .dataframe tbody tr th {\n",
       "        vertical-align: top;\n",
       "    }\n",
       "\n",
       "    .dataframe thead th {\n",
       "        text-align: right;\n",
       "    }\n",
       "</style>\n",
       "<table border=\"1\" class=\"dataframe\">\n",
       "  <thead>\n",
       "    <tr style=\"text-align: right;\">\n",
       "      <th></th>\n",
       "      <th>City</th>\n",
       "      <th>ShelterType</th>\n",
       "      <th>ShelterName</th>\n",
       "      <th>Organization</th>\n",
       "      <th>Shelter</th>\n",
       "      <th>Capacity</th>\n",
       "      <th>Overnight</th>\n",
       "      <th>Daytime</th>\n",
       "      <th>YEAR</th>\n",
       "      <th>MONTH</th>\n",
       "    </tr>\n",
       "    <tr>\n",
       "      <th>Date</th>\n",
       "      <th></th>\n",
       "      <th></th>\n",
       "      <th></th>\n",
       "      <th></th>\n",
       "      <th></th>\n",
       "      <th></th>\n",
       "      <th></th>\n",
       "      <th></th>\n",
       "      <th></th>\n",
       "      <th></th>\n",
       "    </tr>\n",
       "  </thead>\n",
       "  <tbody>\n",
       "    <tr>\n",
       "      <th>2013-04-01</th>\n",
       "      <td>Edmonton</td>\n",
       "      <td>Women Emergency</td>\n",
       "      <td>WEAC</td>\n",
       "      <td>WEAC</td>\n",
       "      <td></td>\n",
       "      <td>75</td>\n",
       "      <td>65</td>\n",
       "      <td></td>\n",
       "      <td>2013</td>\n",
       "      <td>4</td>\n",
       "    </tr>\n",
       "    <tr>\n",
       "      <th>2013-04-01</th>\n",
       "      <td>Edmonton</td>\n",
       "      <td>Intox</td>\n",
       "      <td>Hope Mission - Intox Centre</td>\n",
       "      <td>Hope Mission</td>\n",
       "      <td>Intox Centre</td>\n",
       "      <td>70</td>\n",
       "      <td>74</td>\n",
       "      <td></td>\n",
       "      <td>2013</td>\n",
       "      <td>4</td>\n",
       "    </tr>\n",
       "    <tr>\n",
       "      <th>2013-04-01</th>\n",
       "      <td>Edmonton</td>\n",
       "      <td>Adult Emergency</td>\n",
       "      <td>Hope Mission - Herb Jamieson Centre</td>\n",
       "      <td>Hope Mission</td>\n",
       "      <td>Herb Jamieson Centre</td>\n",
       "      <td>250</td>\n",
       "      <td>253</td>\n",
       "      <td></td>\n",
       "      <td>2013</td>\n",
       "      <td>4</td>\n",
       "    </tr>\n",
       "  </tbody>\n",
       "</table>\n",
       "</div>"
      ],
      "text/plain": [
       "                City      ShelterType                          ShelterName  \\\n",
       "Date                                                                         \n",
       "2013-04-01  Edmonton  Women Emergency                                 WEAC   \n",
       "2013-04-01  Edmonton            Intox          Hope Mission - Intox Centre   \n",
       "2013-04-01  Edmonton  Adult Emergency  Hope Mission - Herb Jamieson Centre   \n",
       "\n",
       "            Organization               Shelter Capacity Overnight Daytime  \\\n",
       "Date                                                                        \n",
       "2013-04-01          WEAC                             75        65           \n",
       "2013-04-01  Hope Mission          Intox Centre       70        74           \n",
       "2013-04-01  Hope Mission  Herb Jamieson Centre      250       253           \n",
       "\n",
       "            YEAR  MONTH  \n",
       "Date                     \n",
       "2013-04-01  2013      4  \n",
       "2013-04-01  2013      4  \n",
       "2013-04-01  2013      4  "
      ]
     },
     "execution_count": 189,
     "metadata": {},
     "output_type": "execute_result"
    }
   ],
   "source": [
    "shelter_df = pd.read_csv(\"data/2013-2022-emergency-shelter-occupancy-machine-readable.csv\", parse_dates=[\"Date\"])\n",
    "# manually add the missing value for the Brenda House 2022-04-01 capacity\n",
    "shelter_df.loc[(shelter_df[\"Date\"] == \"2022-04-01\") & (shelter_df[\"ShelterName\"] == \"Brendas House\"), \"Capacity\"] = 60\n",
    "shelter_df.set_index(\"Date\", inplace=True)\n",
    "shelter_df.head(3)"
   ]
  },
  {
   "cell_type": "code",
   "execution_count": 190,
   "id": "c30f55c7",
   "metadata": {},
   "outputs": [],
   "source": [
    "shelter_df = shelter_df.loc[shelter_df[\"City\"] == \"Calgary\", [\"ShelterType\", \"ShelterName\", \"Organization\", \"Shelter\", \"Capacity\", \"Overnight\"]]\n",
    "# shelter_df[\"Capacity\"].astype(\"int64\")"
   ]
  },
  {
   "cell_type": "code",
   "execution_count": 191,
   "id": "e5fdaeb7",
   "metadata": {},
   "outputs": [],
   "source": [
    "shelter_df = shelter_df.astype({\"Capacity\": \"int32\", \"Overnight\": \"int32\"})"
   ]
  },
  {
   "cell_type": "code",
   "execution_count": 192,
   "id": "4a540e32",
   "metadata": {},
   "outputs": [],
   "source": [
    "shelter_df = shelter_df.loc[shelter_df[\"Capacity\"] > 0]"
   ]
  },
  {
   "cell_type": "code",
   "execution_count": 193,
   "id": "8f634d68",
   "metadata": {},
   "outputs": [
    {
     "data": {
      "text/html": [
       "<div>\n",
       "<style scoped>\n",
       "    .dataframe tbody tr th:only-of-type {\n",
       "        vertical-align: middle;\n",
       "    }\n",
       "\n",
       "    .dataframe tbody tr th {\n",
       "        vertical-align: top;\n",
       "    }\n",
       "\n",
       "    .dataframe thead th {\n",
       "        text-align: right;\n",
       "    }\n",
       "</style>\n",
       "<table border=\"1\" class=\"dataframe\">\n",
       "  <thead>\n",
       "    <tr style=\"text-align: right;\">\n",
       "      <th></th>\n",
       "      <th>ShelterType</th>\n",
       "      <th>ShelterName</th>\n",
       "      <th>Organization</th>\n",
       "      <th>Shelter</th>\n",
       "      <th>Capacity</th>\n",
       "      <th>Overnight</th>\n",
       "    </tr>\n",
       "    <tr>\n",
       "      <th>Date</th>\n",
       "      <th></th>\n",
       "      <th></th>\n",
       "      <th></th>\n",
       "      <th></th>\n",
       "      <th></th>\n",
       "      <th></th>\n",
       "    </tr>\n",
       "  </thead>\n",
       "  <tbody>\n",
       "    <tr>\n",
       "      <th>2013-04-01</th>\n",
       "      <td>Adult Emergency</td>\n",
       "      <td>River Front</td>\n",
       "      <td>Calgary Drop-In Centre</td>\n",
       "      <td>River Front</td>\n",
       "      <td>725</td>\n",
       "      <td>700</td>\n",
       "    </tr>\n",
       "    <tr>\n",
       "      <th>2013-04-01</th>\n",
       "      <td>Winter Emergency</td>\n",
       "      <td>River Front - Winter Emergency</td>\n",
       "      <td>Calgary Drop-In Centre</td>\n",
       "      <td>River Front - Winter Emergency</td>\n",
       "      <td>140</td>\n",
       "      <td>90</td>\n",
       "    </tr>\n",
       "    <tr>\n",
       "      <th>2013-04-01</th>\n",
       "      <td>Short Term Supportive</td>\n",
       "      <td>River Front - Short Term Supportive</td>\n",
       "      <td>Calgary Drop-In Centre</td>\n",
       "      <td>River Front - Short Term Supportive</td>\n",
       "      <td>270</td>\n",
       "      <td>262</td>\n",
       "    </tr>\n",
       "    <tr>\n",
       "      <th>2013-04-01</th>\n",
       "      <td>Adult Emergency</td>\n",
       "      <td>Hillhurst Centre</td>\n",
       "      <td>Calgary Drop-In Centre</td>\n",
       "      <td>Hillhurst Centre</td>\n",
       "      <td>125</td>\n",
       "      <td>117</td>\n",
       "    </tr>\n",
       "    <tr>\n",
       "      <th>2013-04-01</th>\n",
       "      <td>Adult Emergency</td>\n",
       "      <td>Wagner Centre</td>\n",
       "      <td>Calgary Salvation Army</td>\n",
       "      <td>Wagner Centre (Women)</td>\n",
       "      <td>23</td>\n",
       "      <td>12</td>\n",
       "    </tr>\n",
       "  </tbody>\n",
       "</table>\n",
       "</div>"
      ],
      "text/plain": [
       "                      ShelterType                          ShelterName  \\\n",
       "Date                                                                     \n",
       "2013-04-01        Adult Emergency                          River Front   \n",
       "2013-04-01       Winter Emergency       River Front - Winter Emergency   \n",
       "2013-04-01  Short Term Supportive  River Front - Short Term Supportive   \n",
       "2013-04-01        Adult Emergency                     Hillhurst Centre   \n",
       "2013-04-01        Adult Emergency                        Wagner Centre   \n",
       "\n",
       "                      Organization                              Shelter  \\\n",
       "Date                                                                      \n",
       "2013-04-01  Calgary Drop-In Centre                          River Front   \n",
       "2013-04-01  Calgary Drop-In Centre       River Front - Winter Emergency   \n",
       "2013-04-01  Calgary Drop-In Centre  River Front - Short Term Supportive   \n",
       "2013-04-01  Calgary Drop-In Centre                     Hillhurst Centre   \n",
       "2013-04-01  Calgary Salvation Army                Wagner Centre (Women)   \n",
       "\n",
       "            Capacity  Overnight  \n",
       "Date                             \n",
       "2013-04-01       725        700  \n",
       "2013-04-01       140         90  \n",
       "2013-04-01       270        262  \n",
       "2013-04-01       125        117  \n",
       "2013-04-01        23         12  "
      ]
     },
     "execution_count": 193,
     "metadata": {},
     "output_type": "execute_result"
    }
   ],
   "source": [
    "shelter_df.head()"
   ]
  },
  {
   "cell_type": "code",
   "execution_count": 194,
   "id": "5312b3cc",
   "metadata": {},
   "outputs": [
    {
     "data": {
      "text/plain": [
       "array(['Calgary Drop-In Centre', 'Calgary Salvation Army', 'Alpha House',\n",
       "       'Mustard Seed Calgary', 'Calgary Dream Centre', 'Calgary YWCA',\n",
       "       'Peter Coyle Place', 'Inn from the Cold', 'Brendas House',\n",
       "       'The Alex'], dtype=object)"
      ]
     },
     "execution_count": 194,
     "metadata": {},
     "output_type": "execute_result"
    }
   ],
   "source": [
    "shelter_df[\"Organization\"].unique()"
   ]
  },
  {
   "cell_type": "code",
   "execution_count": 195,
   "id": "eaf9f651",
   "metadata": {},
   "outputs": [
    {
     "data": {
      "text/html": [
       "<div>\n",
       "<style scoped>\n",
       "    .dataframe tbody tr th:only-of-type {\n",
       "        vertical-align: middle;\n",
       "    }\n",
       "\n",
       "    .dataframe tbody tr th {\n",
       "        vertical-align: top;\n",
       "    }\n",
       "\n",
       "    .dataframe thead th {\n",
       "        text-align: right;\n",
       "    }\n",
       "</style>\n",
       "<table border=\"1\" class=\"dataframe\">\n",
       "  <thead>\n",
       "    <tr style=\"text-align: right;\">\n",
       "      <th></th>\n",
       "      <th>ShelterType</th>\n",
       "      <th>ShelterName</th>\n",
       "      <th>Organization</th>\n",
       "      <th>Shelter</th>\n",
       "      <th>Capacity</th>\n",
       "      <th>Overnight</th>\n",
       "    </tr>\n",
       "    <tr>\n",
       "      <th>Date</th>\n",
       "      <th></th>\n",
       "      <th></th>\n",
       "      <th></th>\n",
       "      <th></th>\n",
       "      <th></th>\n",
       "      <th></th>\n",
       "    </tr>\n",
       "  </thead>\n",
       "  <tbody>\n",
       "    <tr>\n",
       "      <th>2020-04-01</th>\n",
       "      <td>COVID19 Expanded Shelter</td>\n",
       "      <td>Alpha House - Clarion</td>\n",
       "      <td>Alpha House</td>\n",
       "      <td>COVID19 Expanded Shelter</td>\n",
       "      <td>40</td>\n",
       "      <td>40</td>\n",
       "    </tr>\n",
       "    <tr>\n",
       "      <th>2020-04-01</th>\n",
       "      <td>COVID19 Isolation Site</td>\n",
       "      <td>Alpha House - Main Site</td>\n",
       "      <td>Alpha House</td>\n",
       "      <td>COVID19 Isolation Site</td>\n",
       "      <td>2</td>\n",
       "      <td>1</td>\n",
       "    </tr>\n",
       "    <tr>\n",
       "      <th>2020-04-01</th>\n",
       "      <td>COVID19 Isolation Site</td>\n",
       "      <td>Alpha House - Lakeview Hotel</td>\n",
       "      <td>Alpha House</td>\n",
       "      <td>COVID19 Isolation Site</td>\n",
       "      <td>100</td>\n",
       "      <td>0</td>\n",
       "    </tr>\n",
       "    <tr>\n",
       "      <th>2020-04-01</th>\n",
       "      <td>COVID19 Social Distancing Measures</td>\n",
       "      <td>Riverfront - Combined</td>\n",
       "      <td>Calgary Drop-In Centre</td>\n",
       "      <td>COVID19 Social Distancing Measures</td>\n",
       "      <td>392</td>\n",
       "      <td>754</td>\n",
       "    </tr>\n",
       "    <tr>\n",
       "      <th>2020-04-01</th>\n",
       "      <td>COVID19 Expanded Shelter</td>\n",
       "      <td>Telus Convention Centre</td>\n",
       "      <td>Calgary Drop-In Centre</td>\n",
       "      <td>COVID19 Expanded Shelter</td>\n",
       "      <td>350</td>\n",
       "      <td>0</td>\n",
       "    </tr>\n",
       "    <tr>\n",
       "      <th>...</th>\n",
       "      <td>...</td>\n",
       "      <td>...</td>\n",
       "      <td>...</td>\n",
       "      <td>...</td>\n",
       "      <td>...</td>\n",
       "      <td>...</td>\n",
       "    </tr>\n",
       "    <tr>\n",
       "      <th>2022-06-26</th>\n",
       "      <td>COVID19 Social Distancing Measures</td>\n",
       "      <td>Riverfront - Combined</td>\n",
       "      <td>Calgary Drop-In Centre</td>\n",
       "      <td>COVID19 Social Distancing Measures</td>\n",
       "      <td>1028</td>\n",
       "      <td>456</td>\n",
       "    </tr>\n",
       "    <tr>\n",
       "      <th>2022-06-27</th>\n",
       "      <td>COVID19 Social Distancing Measures</td>\n",
       "      <td>Riverfront - Combined</td>\n",
       "      <td>Calgary Drop-In Centre</td>\n",
       "      <td>COVID19 Social Distancing Measures</td>\n",
       "      <td>1028</td>\n",
       "      <td>477</td>\n",
       "    </tr>\n",
       "    <tr>\n",
       "      <th>2022-06-28</th>\n",
       "      <td>COVID19 Social Distancing Measures</td>\n",
       "      <td>Riverfront - Combined</td>\n",
       "      <td>Calgary Drop-In Centre</td>\n",
       "      <td>COVID19 Social Distancing Measures</td>\n",
       "      <td>1028</td>\n",
       "      <td>460</td>\n",
       "    </tr>\n",
       "    <tr>\n",
       "      <th>2022-06-29</th>\n",
       "      <td>COVID19 Social Distancing Measures</td>\n",
       "      <td>Riverfront - Combined</td>\n",
       "      <td>Calgary Drop-In Centre</td>\n",
       "      <td>COVID19 Social Distancing Measures</td>\n",
       "      <td>1028</td>\n",
       "      <td>486</td>\n",
       "    </tr>\n",
       "    <tr>\n",
       "      <th>2022-06-30</th>\n",
       "      <td>COVID19 Social Distancing Measures</td>\n",
       "      <td>Riverfront - Combined</td>\n",
       "      <td>Calgary Drop-In Centre</td>\n",
       "      <td>COVID19 Social Distancing Measures</td>\n",
       "      <td>1028</td>\n",
       "      <td>440</td>\n",
       "    </tr>\n",
       "  </tbody>\n",
       "</table>\n",
       "<p>2971 rows × 6 columns</p>\n",
       "</div>"
      ],
      "text/plain": [
       "                                   ShelterType                   ShelterName  \\\n",
       "Date                                                                           \n",
       "2020-04-01            COVID19 Expanded Shelter         Alpha House - Clarion   \n",
       "2020-04-01              COVID19 Isolation Site       Alpha House - Main Site   \n",
       "2020-04-01              COVID19 Isolation Site  Alpha House - Lakeview Hotel   \n",
       "2020-04-01  COVID19 Social Distancing Measures         Riverfront - Combined   \n",
       "2020-04-01            COVID19 Expanded Shelter       Telus Convention Centre   \n",
       "...                                        ...                           ...   \n",
       "2022-06-26  COVID19 Social Distancing Measures         Riverfront - Combined   \n",
       "2022-06-27  COVID19 Social Distancing Measures         Riverfront - Combined   \n",
       "2022-06-28  COVID19 Social Distancing Measures         Riverfront - Combined   \n",
       "2022-06-29  COVID19 Social Distancing Measures         Riverfront - Combined   \n",
       "2022-06-30  COVID19 Social Distancing Measures         Riverfront - Combined   \n",
       "\n",
       "                      Organization                             Shelter  \\\n",
       "Date                                                                     \n",
       "2020-04-01             Alpha House            COVID19 Expanded Shelter   \n",
       "2020-04-01             Alpha House              COVID19 Isolation Site   \n",
       "2020-04-01             Alpha House              COVID19 Isolation Site   \n",
       "2020-04-01  Calgary Drop-In Centre  COVID19 Social Distancing Measures   \n",
       "2020-04-01  Calgary Drop-In Centre            COVID19 Expanded Shelter   \n",
       "...                            ...                                 ...   \n",
       "2022-06-26  Calgary Drop-In Centre  COVID19 Social Distancing Measures   \n",
       "2022-06-27  Calgary Drop-In Centre  COVID19 Social Distancing Measures   \n",
       "2022-06-28  Calgary Drop-In Centre  COVID19 Social Distancing Measures   \n",
       "2022-06-29  Calgary Drop-In Centre  COVID19 Social Distancing Measures   \n",
       "2022-06-30  Calgary Drop-In Centre  COVID19 Social Distancing Measures   \n",
       "\n",
       "            Capacity  Overnight  \n",
       "Date                             \n",
       "2020-04-01        40         40  \n",
       "2020-04-01         2          1  \n",
       "2020-04-01       100          0  \n",
       "2020-04-01       392        754  \n",
       "2020-04-01       350          0  \n",
       "...              ...        ...  \n",
       "2022-06-26      1028        456  \n",
       "2022-06-27      1028        477  \n",
       "2022-06-28      1028        460  \n",
       "2022-06-29      1028        486  \n",
       "2022-06-30      1028        440  \n",
       "\n",
       "[2971 rows x 6 columns]"
      ]
     },
     "execution_count": 195,
     "metadata": {},
     "output_type": "execute_result"
    }
   ],
   "source": [
    "shelter_df.loc[shelter_df[\"Shelter\"].str.contains(\"19\")]"
   ]
  },
  {
   "cell_type": "code",
   "execution_count": 196,
   "id": "f616bd60",
   "metadata": {},
   "outputs": [],
   "source": [
    "org_type = {\n",
    "    'Calgary Drop-In Centre': \"public\", \n",
    "    'Calgary Salvation Army': \"religious\", \n",
    "    'Alpha House': \"private\",\n",
    "    'Mustard Seed Calgary': \"religious\", \n",
    "    'Calgary Dream Centre': \"charitable\", \n",
    "    'Calgary YWCA': \"charitable\",\n",
    "    'Peter Coyle Place': \"private\", \n",
    "    'Inn from the Cold': \"charitable\", \n",
    "    'Brendas House': \"charitable\",\n",
    "    'The Alex': \"charitable\",\n",
    "}"
   ]
  },
  {
   "cell_type": "code",
   "execution_count": 197,
   "id": "7c2ea5a7",
   "metadata": {},
   "outputs": [],
   "source": [
    "shelter_df[\"organization_category\"] = shelter_df[\"Organization\"].map(lambda x: org_type[x])\n",
    "shelter_df[\"occupation_rate\"] = shelter_df[\"Overnight\"] / shelter_df[\"Capacity\"]\n",
    "shelter_df = shelter_df.loc[:, [\"organization_category\", \"occupation_rate\", \"Capacity\"]]"
   ]
  },
  {
   "cell_type": "code",
   "execution_count": 198,
   "id": "f6b59c26",
   "metadata": {},
   "outputs": [],
   "source": [
    "shelter_df = shelter_df.reset_index()\n",
    "shelter_df[\"year\"] = shelter_df[\"Date\"].dt.year\n",
    "shelter_df[\"month\"] = shelter_df[\"Date\"].dt.month"
   ]
  },
  {
   "cell_type": "code",
   "execution_count": 199,
   "id": "6871c598",
   "metadata": {},
   "outputs": [
    {
     "data": {
      "text/html": [
       "<div>\n",
       "<style scoped>\n",
       "    .dataframe tbody tr th:only-of-type {\n",
       "        vertical-align: middle;\n",
       "    }\n",
       "\n",
       "    .dataframe tbody tr th {\n",
       "        vertical-align: top;\n",
       "    }\n",
       "\n",
       "    .dataframe thead th {\n",
       "        text-align: right;\n",
       "    }\n",
       "</style>\n",
       "<table border=\"1\" class=\"dataframe\">\n",
       "  <thead>\n",
       "    <tr style=\"text-align: right;\">\n",
       "      <th></th>\n",
       "      <th></th>\n",
       "      <th>charitable</th>\n",
       "      <th>private</th>\n",
       "      <th>public</th>\n",
       "      <th>religious</th>\n",
       "    </tr>\n",
       "    <tr>\n",
       "      <th>year</th>\n",
       "      <th>month</th>\n",
       "      <th></th>\n",
       "      <th></th>\n",
       "      <th></th>\n",
       "      <th></th>\n",
       "    </tr>\n",
       "  </thead>\n",
       "  <tbody>\n",
       "    <tr>\n",
       "      <th rowspan=\"5\" valign=\"top\">2013</th>\n",
       "      <th>4</th>\n",
       "      <td>0.807792</td>\n",
       "      <td>0.892429</td>\n",
       "      <td>0.837954</td>\n",
       "      <td>0.828436</td>\n",
       "    </tr>\n",
       "    <tr>\n",
       "      <th>5</th>\n",
       "      <td>0.895268</td>\n",
       "      <td>0.915375</td>\n",
       "      <td>0.748039</td>\n",
       "      <td>0.812225</td>\n",
       "    </tr>\n",
       "    <tr>\n",
       "      <th>6</th>\n",
       "      <td>0.702104</td>\n",
       "      <td>0.871861</td>\n",
       "      <td>0.826999</td>\n",
       "      <td>0.690183</td>\n",
       "    </tr>\n",
       "    <tr>\n",
       "      <th>7</th>\n",
       "      <td>0.842897</td>\n",
       "      <td>0.913909</td>\n",
       "      <td>0.940880</td>\n",
       "      <td>0.797886</td>\n",
       "    </tr>\n",
       "    <tr>\n",
       "      <th>8</th>\n",
       "      <td>0.881335</td>\n",
       "      <td>0.924696</td>\n",
       "      <td>0.931781</td>\n",
       "      <td>0.788934</td>\n",
       "    </tr>\n",
       "    <tr>\n",
       "      <th>...</th>\n",
       "      <th>...</th>\n",
       "      <td>...</td>\n",
       "      <td>...</td>\n",
       "      <td>...</td>\n",
       "      <td>...</td>\n",
       "    </tr>\n",
       "    <tr>\n",
       "      <th rowspan=\"5\" valign=\"top\">2022</th>\n",
       "      <th>2</th>\n",
       "      <td>0.641573</td>\n",
       "      <td>0.942533</td>\n",
       "      <td>0.521443</td>\n",
       "      <td>0.770229</td>\n",
       "    </tr>\n",
       "    <tr>\n",
       "      <th>3</th>\n",
       "      <td>0.690713</td>\n",
       "      <td>0.927807</td>\n",
       "      <td>0.291888</td>\n",
       "      <td>0.758096</td>\n",
       "    </tr>\n",
       "    <tr>\n",
       "      <th>4</th>\n",
       "      <td>0.715357</td>\n",
       "      <td>0.909216</td>\n",
       "      <td>0.257259</td>\n",
       "      <td>0.825552</td>\n",
       "    </tr>\n",
       "    <tr>\n",
       "      <th>5</th>\n",
       "      <td>0.747912</td>\n",
       "      <td>0.902657</td>\n",
       "      <td>0.300160</td>\n",
       "      <td>0.727309</td>\n",
       "    </tr>\n",
       "    <tr>\n",
       "      <th>6</th>\n",
       "      <td>0.797879</td>\n",
       "      <td>0.869289</td>\n",
       "      <td>0.222941</td>\n",
       "      <td>0.721967</td>\n",
       "    </tr>\n",
       "  </tbody>\n",
       "</table>\n",
       "<p>111 rows × 4 columns</p>\n",
       "</div>"
      ],
      "text/plain": [
       "            charitable   private    public  religious\n",
       "year month                                           \n",
       "2013 4        0.807792  0.892429  0.837954   0.828436\n",
       "     5        0.895268  0.915375  0.748039   0.812225\n",
       "     6        0.702104  0.871861  0.826999   0.690183\n",
       "     7        0.842897  0.913909  0.940880   0.797886\n",
       "     8        0.881335  0.924696  0.931781   0.788934\n",
       "...                ...       ...       ...        ...\n",
       "2022 2        0.641573  0.942533  0.521443   0.770229\n",
       "     3        0.690713  0.927807  0.291888   0.758096\n",
       "     4        0.715357  0.909216  0.257259   0.825552\n",
       "     5        0.747912  0.902657  0.300160   0.727309\n",
       "     6        0.797879  0.869289  0.222941   0.721967\n",
       "\n",
       "[111 rows x 4 columns]"
      ]
     },
     "execution_count": 199,
     "metadata": {},
     "output_type": "execute_result"
    },
    {
     "data": {
      "image/png": "[encoded data removed]",
      "text/plain": [
       "<Figure size 640x480 with 1 Axes>"
      ]
     },
     "metadata": {},
     "output_type": "display_data"
    }
   ],
   "source": [
    "a = shelter_df.loc[:, [\"year\", \"month\", \"organization_category\", \"occupation_rate\"]] \\\n",
    "    .groupby([\"year\", \"month\", \"organization_category\"]) \\\n",
    "    .mean(\"occupation_rate\") \\\n",
    "    .unstack()\n",
    "\n",
    "a.columns = [\"charitable\", \"private\", \"public\", \"religious\"]\n",
    "a.plot()\n",
    "a"
   ]
  },
  {
   "cell_type": "code",
   "execution_count": 200,
   "id": "ba3a15b2",
   "metadata": {},
   "outputs": [
    {
     "data": {
      "text/html": [
       "<div>\n",
       "<style scoped>\n",
       "    .dataframe tbody tr th:only-of-type {\n",
       "        vertical-align: middle;\n",
       "    }\n",
       "\n",
       "    .dataframe tbody tr th {\n",
       "        vertical-align: top;\n",
       "    }\n",
       "\n",
       "    .dataframe thead th {\n",
       "        text-align: right;\n",
       "    }\n",
       "</style>\n",
       "<table border=\"1\" class=\"dataframe\">\n",
       "  <thead>\n",
       "    <tr style=\"text-align: right;\">\n",
       "      <th></th>\n",
       "      <th></th>\n",
       "      <th>charitable</th>\n",
       "      <th>private</th>\n",
       "      <th>public</th>\n",
       "      <th>religious</th>\n",
       "    </tr>\n",
       "    <tr>\n",
       "      <th>year</th>\n",
       "      <th>month</th>\n",
       "      <th></th>\n",
       "      <th></th>\n",
       "      <th></th>\n",
       "      <th></th>\n",
       "    </tr>\n",
       "  </thead>\n",
       "  <tbody>\n",
       "    <tr>\n",
       "      <th rowspan=\"5\" valign=\"top\">2013</th>\n",
       "      <th>4</th>\n",
       "      <td>75.833333</td>\n",
       "      <td>86.0</td>\n",
       "      <td>315.000000</td>\n",
       "      <td>150.500000</td>\n",
       "    </tr>\n",
       "    <tr>\n",
       "      <th>5</th>\n",
       "      <td>81.000000</td>\n",
       "      <td>112.0</td>\n",
       "      <td>315.000000</td>\n",
       "      <td>184.000000</td>\n",
       "    </tr>\n",
       "    <tr>\n",
       "      <th>6</th>\n",
       "      <td>81.000000</td>\n",
       "      <td>112.0</td>\n",
       "      <td>373.333333</td>\n",
       "      <td>184.000000</td>\n",
       "    </tr>\n",
       "    <tr>\n",
       "      <th>7</th>\n",
       "      <td>81.000000</td>\n",
       "      <td>112.0</td>\n",
       "      <td>373.333333</td>\n",
       "      <td>184.000000</td>\n",
       "    </tr>\n",
       "    <tr>\n",
       "      <th>8</th>\n",
       "      <td>81.000000</td>\n",
       "      <td>112.0</td>\n",
       "      <td>373.333333</td>\n",
       "      <td>184.000000</td>\n",
       "    </tr>\n",
       "    <tr>\n",
       "      <th>...</th>\n",
       "      <th>...</th>\n",
       "      <td>...</td>\n",
       "      <td>...</td>\n",
       "      <td>...</td>\n",
       "      <td>...</td>\n",
       "    </tr>\n",
       "    <tr>\n",
       "      <th rowspan=\"5\" valign=\"top\">2022</th>\n",
       "      <th>2</th>\n",
       "      <td>57.375000</td>\n",
       "      <td>94.0</td>\n",
       "      <td>240.666667</td>\n",
       "      <td>145.000000</td>\n",
       "    </tr>\n",
       "    <tr>\n",
       "      <th>3</th>\n",
       "      <td>57.375000</td>\n",
       "      <td>94.0</td>\n",
       "      <td>427.597403</td>\n",
       "      <td>210.416667</td>\n",
       "    </tr>\n",
       "    <tr>\n",
       "      <th>4</th>\n",
       "      <td>57.375000</td>\n",
       "      <td>94.0</td>\n",
       "      <td>517.500000</td>\n",
       "      <td>225.000000</td>\n",
       "    </tr>\n",
       "    <tr>\n",
       "      <th>5</th>\n",
       "      <td>57.375000</td>\n",
       "      <td>94.0</td>\n",
       "      <td>517.500000</td>\n",
       "      <td>201.342857</td>\n",
       "    </tr>\n",
       "    <tr>\n",
       "      <th>6</th>\n",
       "      <td>54.887892</td>\n",
       "      <td>94.0</td>\n",
       "      <td>517.500000</td>\n",
       "      <td>156.000000</td>\n",
       "    </tr>\n",
       "  </tbody>\n",
       "</table>\n",
       "<p>111 rows × 4 columns</p>\n",
       "</div>"
      ],
      "text/plain": [
       "            charitable  private      public   religious\n",
       "year month                                             \n",
       "2013 4       75.833333     86.0  315.000000  150.500000\n",
       "     5       81.000000    112.0  315.000000  184.000000\n",
       "     6       81.000000    112.0  373.333333  184.000000\n",
       "     7       81.000000    112.0  373.333333  184.000000\n",
       "     8       81.000000    112.0  373.333333  184.000000\n",
       "...                ...      ...         ...         ...\n",
       "2022 2       57.375000     94.0  240.666667  145.000000\n",
       "     3       57.375000     94.0  427.597403  210.416667\n",
       "     4       57.375000     94.0  517.500000  225.000000\n",
       "     5       57.375000     94.0  517.500000  201.342857\n",
       "     6       54.887892     94.0  517.500000  156.000000\n",
       "\n",
       "[111 rows x 4 columns]"
      ]
     },
     "execution_count": 200,
     "metadata": {},
     "output_type": "execute_result"
    },
    {
     "data": {
      "image/png": "[encoded data removed]",
      "text/plain": [
       "<Figure size 640x480 with 1 Axes>"
      ]
     },
     "metadata": {},
     "output_type": "display_data"
    }
   ],
   "source": [
    "b = shelter_df.loc[:, [\"year\", \"month\", \"organization_category\", \"Capacity\"]] \\\n",
    "    .groupby([\"year\", \"month\", \"organization_category\"]) \\\n",
    "    .mean(\"Capacity\") \\\n",
    "    .unstack()\n",
    "\n",
    "b.columns = [\"charitable\", \"private\", \"public\", \"religious\"]\n",
    "b.plot()\n",
    "b"
   ]
  },
  {
   "cell_type": "code",
   "execution_count": 201,
   "id": "3d8213a0",
   "metadata": {},
   "outputs": [
    {
     "data": {
      "text/plain": [
       "charitable    float64\n",
       "private       float64\n",
       "public        float64\n",
       "religious     float64\n",
       "dtype: object"
      ]
     },
     "execution_count": 201,
     "metadata": {},
     "output_type": "execute_result"
    }
   ],
   "source": [
    "a.dtypes"
   ]
  },
  {
   "cell_type": "code",
   "execution_count": 202,
   "id": "17da7608",
   "metadata": {},
   "outputs": [],
   "source": [
    "a = a.reset_index()\n",
    "a[\"Y-M\"] = pd.to_datetime(a[\"year\"].astype(\"str\") + \"-\" + a[\"month\"].astype(\"str\"))"
   ]
  },
  {
   "cell_type": "code",
   "execution_count": 234,
   "id": "cc24faec",
   "metadata": {},
   "outputs": [],
   "source": [
    "new_lel = pd.melt(\n",
    "    a, \n",
    "    id_vars=[\"year\", \"month\"], \n",
    "    var_name=\"org_type\", \n",
    "    value_vars=[\"charitable\", \"private\", \"public\", \"religious\"], \n",
    "    value_name=\"occupancy_rate\"\n",
    ")\n",
    "# new_lel.loc[(new_lel[\"year\"] == 2013) & (new_lel[\"month\"] == 4)]\n",
    "new_lel = new_lel.astype({\"year\": \"str\", \"month\": \"str\"})\n",
    "# new_lel[\"Y-M\"] = a[\"year\"] + \"-\" + a[\"month\"]\n",
    "new_lel[\"Y-M\"] = pd.to_datetime(new_lel[['year', 'month']].agg('-'.join, axis=1))"
   ]
  },
  {
   "cell_type": "code",
   "execution_count": 237,
   "id": "2ba0156b",
   "metadata": {},
   "outputs": [
    {
     "data": {
      "text/html": [
       "<div>\n",
       "<style scoped>\n",
       "    .dataframe tbody tr th:only-of-type {\n",
       "        vertical-align: middle;\n",
       "    }\n",
       "\n",
       "    .dataframe tbody tr th {\n",
       "        vertical-align: top;\n",
       "    }\n",
       "\n",
       "    .dataframe thead th {\n",
       "        text-align: right;\n",
       "    }\n",
       "</style>\n",
       "<table border=\"1\" class=\"dataframe\">\n",
       "  <thead>\n",
       "    <tr style=\"text-align: right;\">\n",
       "      <th></th>\n",
       "      <th>year</th>\n",
       "      <th>month</th>\n",
       "      <th>org_type</th>\n",
       "      <th>occupancy_rate</th>\n",
       "      <th>Y-M</th>\n",
       "    </tr>\n",
       "  </thead>\n",
       "  <tbody>\n",
       "    <tr>\n",
       "      <th>69</th>\n",
       "      <td>2019</td>\n",
       "      <td>1</td>\n",
       "      <td>charitable</td>\n",
       "      <td>0.873363</td>\n",
       "      <td>2019-01-01</td>\n",
       "    </tr>\n",
       "    <tr>\n",
       "      <th>180</th>\n",
       "      <td>2019</td>\n",
       "      <td>1</td>\n",
       "      <td>private</td>\n",
       "      <td>0.977419</td>\n",
       "      <td>2019-01-01</td>\n",
       "    </tr>\n",
       "    <tr>\n",
       "      <th>291</th>\n",
       "      <td>2019</td>\n",
       "      <td>1</td>\n",
       "      <td>public</td>\n",
       "      <td>0.487515</td>\n",
       "      <td>2019-01-01</td>\n",
       "    </tr>\n",
       "    <tr>\n",
       "      <th>402</th>\n",
       "      <td>2019</td>\n",
       "      <td>1</td>\n",
       "      <td>religious</td>\n",
       "      <td>0.820126</td>\n",
       "      <td>2019-01-01</td>\n",
       "    </tr>\n",
       "  </tbody>\n",
       "</table>\n",
       "</div>"
      ],
      "text/plain": [
       "     year month    org_type  occupancy_rate        Y-M\n",
       "69   2019     1  charitable        0.873363 2019-01-01\n",
       "180  2019     1     private        0.977419 2019-01-01\n",
       "291  2019     1      public        0.487515 2019-01-01\n",
       "402  2019     1   religious        0.820126 2019-01-01"
      ]
     },
     "execution_count": 237,
     "metadata": {},
     "output_type": "execute_result"
    }
   ],
   "source": [
    "new_lel.loc[new_lel[\"Y-M\"] == \"2019-01\"]"
   ]
  },
  {
   "cell_type": "code",
   "execution_count": 239,
   "id": "25cd500b",
   "metadata": {},
   "outputs": [
    {
     "data": {
      "application/vnd.plotly.v1+json": {
       "config": {
        "plotlyServerURL": "https://plot.ly"
       },
       "data": [
        {
         "hovertemplate": "<b>%{hovertext}</b><br><br>org_type=charitable<br>year=2013<br>Y-M=%{x}<br>occupancy_rate=%{y}<extra></extra>",
         "hovertext": [
          "charitable",
          "charitable",
          "charitable",
          "charitable",
          "charitable",
          "charitable",
          "charitable",
          "charitable",
          "charitable"
         ],
         "ids": [
          "charitable",
          "charitable",
          "charitable",
          "charitable",
          "charitable",
          "charitable",
          "charitable",
          "charitable",
          "charitable"
         ],
         "legendgroup": "charitable",
         "line": {
          "color": "#636efa",
          "dash": "solid"
         },
         "marker": {
          "symbol": "circle"
         },
         "mode": "lines",
         "name": "charitable",
         "orientation": "v",
         "showlegend": true,
         "type": "scatter",
         "x": [
          "2013-04-01T00:00:00",
          "2013-05-01T00:00:00",
          "2013-06-01T00:00:00",
          "2013-07-01T00:00:00",
          "2013-08-01T00:00:00",
          "2013-09-01T00:00:00",
          "2013-10-01T00:00:00",
          "2013-11-01T00:00:00",
          "2013-12-01T00:00:00"
         ],
         "xaxis": "x",
         "y": [
          0.807791646966115,
          0.8952683596431023,
          0.7021039716312056,
          0.8428970944863876,
          0.8813353008464883,
          0.9169993380614657,
          0.9151654083733699,
          0.8532219858156029,
          0.8633629985510562
         ],
         "yaxis": "y"
        },
        {
         "hovertemplate": "<b>%{hovertext}</b><br><br>org_type=private<br>year=2013<br>Y-M=%{x}<br>occupancy_rate=%{y}<extra></extra>",
         "hovertext": [
          "private",
          "private",
          "private",
          "private",
          "private",
          "private",
          "private",
          "private",
          "private"
         ],
         "ids": [
          "private",
          "private",
          "private",
          "private",
          "private",
          "private",
          "private",
          "private",
          "private"
         ],
         "legendgroup": "private",
         "line": {
          "color": "#EF553B",
          "dash": "solid"
         },
         "marker": {
          "symbol": "circle"
         },
         "mode": "lines",
         "name": "private",
         "orientation": "v",
         "showlegend": true,
         "type": "scatter",
         "x": [
          "2013-04-01T00:00:00",
          "2013-05-01T00:00:00",
          "2013-06-01T00:00:00",
          "2013-07-01T00:00:00",
          "2013-08-01T00:00:00",
          "2013-09-01T00:00:00",
          "2013-10-01T00:00:00",
          "2013-11-01T00:00:00",
          "2013-12-01T00:00:00"
         ],
         "xaxis": "x",
         "y": [
          0.8924293353705118,
          0.9153749476330122,
          0.8718614718614719,
          0.9139086719731881,
          0.9246962714704651,
          0.9198268398268398,
          0.9619518921938277,
          1.0313690476190476,
          1.0383064516129032
         ],
         "yaxis": "y"
        },
        {
         "hovertemplate": "<b>%{hovertext}</b><br><br>org_type=public<br>year=2013<br>Y-M=%{x}<br>occupancy_rate=%{y}<extra></extra>",
         "hovertext": [
          "public",
          "public",
          "public",
          "public",
          "public",
          "public",
          "public",
          "public",
          "public"
         ],
         "ids": [
          "public",
          "public",
          "public",
          "public",
          "public",
          "public",
          "public",
          "public",
          "public"
         ],
         "legendgroup": "public",
         "line": {
          "color": "#00cc96",
          "dash": "solid"
         },
         "marker": {
          "symbol": "circle"
         },
         "mode": "lines",
         "name": "public",
         "orientation": "v",
         "showlegend": true,
         "type": "scatter",
         "x": [
          "2013-04-01T00:00:00",
          "2013-05-01T00:00:00",
          "2013-06-01T00:00:00",
          "2013-07-01T00:00:00",
          "2013-08-01T00:00:00",
          "2013-09-01T00:00:00",
          "2013-10-01T00:00:00",
          "2013-11-01T00:00:00",
          "2013-12-01T00:00:00"
         ],
         "xaxis": "x",
         "y": [
          0.8379540929270815,
          0.7480388821206396,
          0.8269987796225344,
          0.9408797703895961,
          0.9317808813633804,
          0.9541456506314744,
          0.8287395430548935,
          0.992355695432707,
          0.966058280511562
         ],
         "yaxis": "y"
        },
        {
         "hovertemplate": "<b>%{hovertext}</b><br><br>org_type=religious<br>year=2013<br>Y-M=%{x}<br>occupancy_rate=%{y}<extra></extra>",
         "hovertext": [
          "religious",
          "religious",
          "religious",
          "religious",
          "religious",
          "religious",
          "religious",
          "religious",
          "religious"
         ],
         "ids": [
          "religious",
          "religious",
          "religious",
          "religious",
          "religious",
          "religious",
          "religious",
          "religious",
          "religious"
         ],
         "legendgroup": "religious",
         "line": {
          "color": "#ab63fa",
          "dash": "solid"
         },
         "marker": {
          "symbol": "circle"
         },
         "mode": "lines",
         "name": "religious",
         "orientation": "v",
         "showlegend": true,
         "type": "scatter",
         "x": [
          "2013-04-01T00:00:00",
          "2013-05-01T00:00:00",
          "2013-06-01T00:00:00",
          "2013-07-01T00:00:00",
          "2013-08-01T00:00:00",
          "2013-09-01T00:00:00",
          "2013-10-01T00:00:00",
          "2013-11-01T00:00:00",
          "2013-12-01T00:00:00"
         ],
         "xaxis": "x",
         "y": [
          0.8284361535448492,
          0.8122247071756188,
          0.6901827914871393,
          0.7978864227693252,
          0.7889341377684547,
          0.807171954563259,
          0.7850693240012883,
          0.7519341962963785,
          0.6752700497475431
         ],
         "yaxis": "y"
        }
       ],
       "frames": [
        {
         "data": [
          {
           "hovertemplate": "<b>%{hovertext}</b><br><br>org_type=charitable<br>year=2013<br>Y-M=%{x}<br>occupancy_rate=%{y}<extra></extra>",
           "hovertext": [
            "charitable",
            "charitable",
            "charitable",
            "charitable",
            "charitable",
            "charitable",
            "charitable",
            "charitable",
            "charitable"
           ],
           "ids": [
            "charitable",
            "charitable",
            "charitable",
            "charitable",
            "charitable",
            "charitable",
            "charitable",
            "charitable",
            "charitable"
           ],
           "legendgroup": "charitable",
           "line": {
            "color": "#636efa",
            "dash": "solid"
           },
           "marker": {
            "symbol": "circle"
           },
           "mode": "lines",
           "name": "charitable",
           "orientation": "v",
           "showlegend": true,
           "type": "scatter",
           "x": [
            "2013-04-01T00:00:00",
            "2013-05-01T00:00:00",
            "2013-06-01T00:00:00",
            "2013-07-01T00:00:00",
            "2013-08-01T00:00:00",
            "2013-09-01T00:00:00",
            "2013-10-01T00:00:00",
            "2013-11-01T00:00:00",
            "2013-12-01T00:00:00"
           ],
           "xaxis": "x",
           "y": [
            0.807791646966115,
            0.8952683596431023,
            0.7021039716312056,
            0.8428970944863876,
            0.8813353008464883,
            0.9169993380614657,
            0.9151654083733699,
            0.8532219858156029,
            0.8633629985510562
           ],
           "yaxis": "y"
          },
          {
           "hovertemplate": "<b>%{hovertext}</b><br><br>org_type=private<br>year=2013<br>Y-M=%{x}<br>occupancy_rate=%{y}<extra></extra>",
           "hovertext": [
            "private",
            "private",
            "private",
            "private",
            "private",
            "private",
            "private",
            "private",
            "private"
           ],
           "ids": [
            "private",
            "private",
            "private",
            "private",
            "private",
            "private",
            "private",
            "private",
            "private"
           ],
           "legendgroup": "private",
           "line": {
            "color": "#EF553B",
            "dash": "solid"
           },
           "marker": {
            "symbol": "circle"
           },
           "mode": "lines",
           "name": "private",
           "orientation": "v",
           "showlegend": true,
           "type": "scatter",
           "x": [
            "2013-04-01T00:00:00",
            "2013-05-01T00:00:00",
            "2013-06-01T00:00:00",
            "2013-07-01T00:00:00",
            "2013-08-01T00:00:00",
            "2013-09-01T00:00:00",
            "2013-10-01T00:00:00",
            "2013-11-01T00:00:00",
            "2013-12-01T00:00:00"
           ],
           "xaxis": "x",
           "y": [
            0.8924293353705118,
            0.9153749476330122,
            0.8718614718614719,
            0.9139086719731881,
            0.9246962714704651,
            0.9198268398268398,
            0.9619518921938277,
            1.0313690476190476,
            1.0383064516129032
           ],
           "yaxis": "y"
          },
          {
           "hovertemplate": "<b>%{hovertext}</b><br><br>org_type=public<br>year=2013<br>Y-M=%{x}<br>occupancy_rate=%{y}<extra></extra>",
           "hovertext": [
            "public",
            "public",
            "public",
            "public",
            "public",
            "public",
            "public",
            "public",
            "public"
           ],
           "ids": [
            "public",
            "public",
            "public",
            "public",
            "public",
            "public",
            "public",
            "public",
            "public"
           ],
           "legendgroup": "public",
           "line": {
            "color": "#00cc96",
            "dash": "solid"
           },
           "marker": {
            "symbol": "circle"
           },
           "mode": "lines",
           "name": "public",
           "orientation": "v",
           "showlegend": true,
           "type": "scatter",
           "x": [
            "2013-04-01T00:00:00",
            "2013-05-01T00:00:00",
            "2013-06-01T00:00:00",
            "2013-07-01T00:00:00",
            "2013-08-01T00:00:00",
            "2013-09-01T00:00:00",
            "2013-10-01T00:00:00",
            "2013-11-01T00:00:00",
            "2013-12-01T00:00:00"
           ],
           "xaxis": "x",
           "y": [
            0.8379540929270815,
            0.7480388821206396,
            0.8269987796225344,
            0.9408797703895961,
            0.9317808813633804,
            0.9541456506314744,
            0.8287395430548935,
            0.992355695432707,
            0.966058280511562
           ],
           "yaxis": "y"
          },
          {
           "hovertemplate": "<b>%{hovertext}</b><br><br>org_type=religious<br>year=2013<br>Y-M=%{x}<br>occupancy_rate=%{y}<extra></extra>",
           "hovertext": [
            "religious",
            "religious",
            "religious",
            "religious",
            "religious",
            "religious",
            "religious",
            "religious",
            "religious"
           ],
           "ids": [
            "religious",
            "religious",
            "religious",
            "religious",
            "religious",
            "religious",
            "religious",
            "religious",
            "religious"
           ],
           "legendgroup": "religious",
           "line": {
            "color": "#ab63fa",
            "dash": "solid"
           },
           "marker": {
            "symbol": "circle"
           },
           "mode": "lines",
           "name": "religious",
           "orientation": "v",
           "showlegend": true,
           "type": "scatter",
           "x": [
            "2013-04-01T00:00:00",
            "2013-05-01T00:00:00",
            "2013-06-01T00:00:00",
            "2013-07-01T00:00:00",
            "2013-08-01T00:00:00",
            "2013-09-01T00:00:00",
            "2013-10-01T00:00:00",
            "2013-11-01T00:00:00",
            "2013-12-01T00:00:00"
           ],
           "xaxis": "x",
           "y": [
            0.8284361535448492,
            0.8122247071756188,
            0.6901827914871393,
            0.7978864227693252,
            0.7889341377684547,
            0.807171954563259,
            0.7850693240012883,
            0.7519341962963785,
            0.6752700497475431
           ],
           "yaxis": "y"
          }
         ],
         "name": "2013"
        },
        {
         "data": [
          {
           "hovertemplate": "<b>%{hovertext}</b><br><br>org_type=charitable<br>year=2014<br>Y-M=%{x}<br>occupancy_rate=%{y}<extra></extra>",
           "hovertext": [
            "charitable",
            "charitable",
            "charitable",
            "charitable",
            "charitable",
            "charitable",
            "charitable",
            "charitable",
            "charitable",
            "charitable",
            "charitable",
            "charitable"
           ],
           "ids": [
            "charitable",
            "charitable",
            "charitable",
            "charitable",
            "charitable",
            "charitable",
            "charitable",
            "charitable",
            "charitable",
            "charitable",
            "charitable",
            "charitable"
           ],
           "legendgroup": "charitable",
           "line": {
            "color": "#636efa",
            "dash": "solid"
           },
           "marker": {
            "symbol": "circle"
           },
           "mode": "lines",
           "name": "charitable",
           "orientation": "v",
           "showlegend": true,
           "type": "scatter",
           "x": [
            "2014-01-01T00:00:00",
            "2014-02-01T00:00:00",
            "2014-03-01T00:00:00",
            "2014-04-01T00:00:00",
            "2014-05-01T00:00:00",
            "2014-06-01T00:00:00",
            "2014-07-01T00:00:00",
            "2014-08-01T00:00:00",
            "2014-09-01T00:00:00",
            "2014-10-01T00:00:00",
            "2014-11-01T00:00:00",
            "2014-12-01T00:00:00"
           ],
           "xaxis": "x",
           "y": [
            0.8870044993517883,
            0.9034094900371495,
            0.8965709219858156,
            0.884613317572892,
            0.9011787234042553,
            0.9005685579196219,
            0.8816388011896592,
            0.8929089910775566,
            0.9225706855791962,
            0.9080893617021276,
            0.8779558932792975,
            0.8513573879792137
           ],
           "yaxis": "y"
          },
          {
           "hovertemplate": "<b>%{hovertext}</b><br><br>org_type=private<br>year=2014<br>Y-M=%{x}<br>occupancy_rate=%{y}<extra></extra>",
           "hovertext": [
            "private",
            "private",
            "private",
            "private",
            "private",
            "private",
            "private",
            "private",
            "private",
            "private",
            "private",
            "private"
           ],
           "ids": [
            "private",
            "private",
            "private",
            "private",
            "private",
            "private",
            "private",
            "private",
            "private",
            "private",
            "private",
            "private"
           ],
           "legendgroup": "private",
           "line": {
            "color": "#EF553B",
            "dash": "solid"
           },
           "marker": {
            "symbol": "circle"
           },
           "mode": "lines",
           "name": "private",
           "orientation": "v",
           "showlegend": true,
           "type": "scatter",
           "x": [
            "2014-01-01T00:00:00",
            "2014-02-01T00:00:00",
            "2014-03-01T00:00:00",
            "2014-04-01T00:00:00",
            "2014-05-01T00:00:00",
            "2014-06-01T00:00:00",
            "2014-07-01T00:00:00",
            "2014-08-01T00:00:00",
            "2014-09-01T00:00:00",
            "2014-10-01T00:00:00",
            "2014-11-01T00:00:00",
            "2014-12-01T00:00:00"
           ],
           "xaxis": "x",
           "y": [
            0.8093272792988163,
            0.9726082099506469,
            0.9548500045179362,
            0.960578898225957,
            1.0249423963133641,
            1.008968253968254,
            1.0072196620583718,
            0.9987711213517665,
            1.000218253968254,
            0.9987711213517665,
            1.0184920634920636,
            1.0118279569892474
           ],
           "yaxis": "y"
          },
          {
           "hovertemplate": "<b>%{hovertext}</b><br><br>org_type=public<br>year=2014<br>Y-M=%{x}<br>occupancy_rate=%{y}<extra></extra>",
           "hovertext": [
            "public",
            "public",
            "public",
            "public",
            "public",
            "public",
            "public",
            "public",
            "public",
            "public",
            "public",
            "public"
           ],
           "ids": [
            "public",
            "public",
            "public",
            "public",
            "public",
            "public",
            "public",
            "public",
            "public",
            "public",
            "public",
            "public"
           ],
           "legendgroup": "public",
           "line": {
            "color": "#00cc96",
            "dash": "solid"
           },
           "marker": {
            "symbol": "circle"
           },
           "mode": "lines",
           "name": "public",
           "orientation": "v",
           "showlegend": true,
           "type": "scatter",
           "x": [
            "2014-01-01T00:00:00",
            "2014-02-01T00:00:00",
            "2014-03-01T00:00:00",
            "2014-04-01T00:00:00",
            "2014-05-01T00:00:00",
            "2014-06-01T00:00:00",
            "2014-07-01T00:00:00",
            "2014-08-01T00:00:00",
            "2014-09-01T00:00:00",
            "2014-10-01T00:00:00",
            "2014-11-01T00:00:00",
            "2014-12-01T00:00:00"
           ],
           "xaxis": "x",
           "y": [
            0.9914672181318455,
            1.0129877824693094,
            1.0089829587254504,
            1.0002006446512195,
            0.7953136112435334,
            0.9233673336171421,
            0.9251680468009722,
            0.9254158181455178,
            0.8922977487291213,
            0.7716992058472134,
            0.9244212055192448,
            0.9214905273937533
           ],
           "yaxis": "y"
          },
          {
           "hovertemplate": "<b>%{hovertext}</b><br><br>org_type=religious<br>year=2014<br>Y-M=%{x}<br>occupancy_rate=%{y}<extra></extra>",
           "hovertext": [
            "religious",
            "religious",
            "religious",
            "religious",
            "religious",
            "religious",
            "religious",
            "religious",
            "religious",
            "religious",
            "religious",
            "religious"
           ],
           "ids": [
            "religious",
            "religious",
            "religious",
            "religious",
            "religious",
            "religious",
            "religious",
            "religious",
            "religious",
            "religious",
            "religious",
            "religious"
           ],
           "legendgroup": "religious",
           "line": {
            "color": "#ab63fa",
            "dash": "solid"
           },
           "marker": {
            "symbol": "circle"
           },
           "mode": "lines",
           "name": "religious",
           "orientation": "v",
           "showlegend": true,
           "type": "scatter",
           "x": [
            "2014-01-01T00:00:00",
            "2014-02-01T00:00:00",
            "2014-03-01T00:00:00",
            "2014-04-01T00:00:00",
            "2014-05-01T00:00:00",
            "2014-06-01T00:00:00",
            "2014-07-01T00:00:00",
            "2014-08-01T00:00:00",
            "2014-09-01T00:00:00",
            "2014-10-01T00:00:00",
            "2014-11-01T00:00:00",
            "2014-12-01T00:00:00"
           ],
           "xaxis": "x",
           "y": [
            0.7430292527569513,
            0.725896626293468,
            0.707200591525395,
            0.6267552293885353,
            0.6606062332675897,
            0.6419804546137606,
            0.6106523523179164,
            0.6288446826248832,
            0.8097591069330199,
            0.805672801132128,
            0.8088260543151847,
            0.7722464399883755
           ],
           "yaxis": "y"
          }
         ],
         "name": "2014"
        },
        {
         "data": [
          {
           "hovertemplate": "<b>%{hovertext}</b><br><br>org_type=charitable<br>year=2015<br>Y-M=%{x}<br>occupancy_rate=%{y}<extra></extra>",
           "hovertext": [
            "charitable",
            "charitable",
            "charitable",
            "charitable",
            "charitable",
            "charitable",
            "charitable",
            "charitable",
            "charitable",
            "charitable",
            "charitable",
            "charitable"
           ],
           "ids": [
            "charitable",
            "charitable",
            "charitable",
            "charitable",
            "charitable",
            "charitable",
            "charitable",
            "charitable",
            "charitable",
            "charitable",
            "charitable",
            "charitable"
           ],
           "legendgroup": "charitable",
           "line": {
            "color": "#636efa",
            "dash": "solid"
           },
           "marker": {
            "symbol": "circle"
           },
           "mode": "lines",
           "name": "charitable",
           "orientation": "v",
           "showlegend": true,
           "type": "scatter",
           "x": [
            "2015-01-01T00:00:00",
            "2015-02-01T00:00:00",
            "2015-03-01T00:00:00",
            "2015-04-01T00:00:00",
            "2015-05-01T00:00:00",
            "2015-06-01T00:00:00",
            "2015-07-01T00:00:00",
            "2015-08-01T00:00:00",
            "2015-09-01T00:00:00",
            "2015-10-01T00:00:00",
            "2015-11-01T00:00:00",
            "2015-12-01T00:00:00"
           ],
           "xaxis": "x",
           "y": [
            0.7326445035460992,
            0.7156908561296859,
            0.7382578643331046,
            0.6744775413711585,
            0.791264584763212,
            0.7316451930654059,
            0.7311457713719209,
            0.7621616716235796,
            0.7575998029944838,
            0.7432283992984062,
            0.7299572441742656,
            0.6737660554956367
           ],
           "yaxis": "y"
          },
          {
           "hovertemplate": "<b>%{hovertext}</b><br><br>org_type=private<br>year=2015<br>Y-M=%{x}<br>occupancy_rate=%{y}<extra></extra>",
           "hovertext": [
            "private",
            "private",
            "private",
            "private",
            "private",
            "private",
            "private",
            "private",
            "private",
            "private",
            "private",
            "private"
           ],
           "ids": [
            "private",
            "private",
            "private",
            "private",
            "private",
            "private",
            "private",
            "private",
            "private",
            "private",
            "private",
            "private"
           ],
           "legendgroup": "private",
           "line": {
            "color": "#EF553B",
            "dash": "solid"
           },
           "marker": {
            "symbol": "circle"
           },
           "mode": "lines",
           "name": "private",
           "orientation": "v",
           "showlegend": true,
           "type": "scatter",
           "x": [
            "2015-01-01T00:00:00",
            "2015-02-01T00:00:00",
            "2015-03-01T00:00:00",
            "2015-04-01T00:00:00",
            "2015-05-01T00:00:00",
            "2015-06-01T00:00:00",
            "2015-07-01T00:00:00",
            "2015-08-01T00:00:00",
            "2015-09-01T00:00:00",
            "2015-10-01T00:00:00",
            "2015-11-01T00:00:00",
            "2015-12-01T00:00:00"
           ],
           "xaxis": "x",
           "y": [
            1.0244047619047618,
            1.016517857142857,
            0.9943548387096774,
            1.0100198412698413,
            1.0040514592933947,
            0.9741666666666667,
            0.9701612903225806,
            0.9999615975422427,
            1.02875,
            1.0313172043010754,
            1.0326388888888889,
            1.014957757296467
           ],
           "yaxis": "y"
          },
          {
           "hovertemplate": "<b>%{hovertext}</b><br><br>org_type=public<br>year=2015<br>Y-M=%{x}<br>occupancy_rate=%{y}<extra></extra>",
           "hovertext": [
            "public",
            "public",
            "public",
            "public",
            "public",
            "public",
            "public",
            "public",
            "public",
            "public",
            "public",
            "public"
           ],
           "ids": [
            "public",
            "public",
            "public",
            "public",
            "public",
            "public",
            "public",
            "public",
            "public",
            "public",
            "public",
            "public"
           ],
           "legendgroup": "public",
           "line": {
            "color": "#00cc96",
            "dash": "solid"
           },
           "marker": {
            "symbol": "circle"
           },
           "mode": "lines",
           "name": "public",
           "orientation": "v",
           "showlegend": true,
           "type": "scatter",
           "x": [
            "2015-01-01T00:00:00",
            "2015-02-01T00:00:00",
            "2015-03-01T00:00:00",
            "2015-04-01T00:00:00",
            "2015-05-01T00:00:00",
            "2015-06-01T00:00:00",
            "2015-07-01T00:00:00",
            "2015-08-01T00:00:00",
            "2015-09-01T00:00:00",
            "2015-10-01T00:00:00",
            "2015-11-01T00:00:00",
            "2015-12-01T00:00:00"
           ],
           "xaxis": "x",
           "y": [
            0.9297869391484191,
            0.9281757480770086,
            0.9141176771783983,
            0.9061132015769271,
            0.7650367860405811,
            0.8810701525054466,
            0.8927920912690046,
            0.8996468885540637,
            0.8957542483660131,
            0.7379748099956829,
            0.8644572621641249,
            0.8503221087718241
           ],
           "yaxis": "y"
          },
          {
           "hovertemplate": "<b>%{hovertext}</b><br><br>org_type=religious<br>year=2015<br>Y-M=%{x}<br>occupancy_rate=%{y}<extra></extra>",
           "hovertext": [
            "religious",
            "religious",
            "religious",
            "religious",
            "religious",
            "religious",
            "religious",
            "religious",
            "religious",
            "religious",
            "religious",
            "religious"
           ],
           "ids": [
            "religious",
            "religious",
            "religious",
            "religious",
            "religious",
            "religious",
            "religious",
            "religious",
            "religious",
            "religious",
            "religious",
            "religious"
           ],
           "legendgroup": "religious",
           "line": {
            "color": "#ab63fa",
            "dash": "solid"
           },
           "marker": {
            "symbol": "circle"
           },
           "mode": "lines",
           "name": "religious",
           "orientation": "v",
           "showlegend": true,
           "type": "scatter",
           "x": [
            "2015-01-01T00:00:00",
            "2015-02-01T00:00:00",
            "2015-03-01T00:00:00",
            "2015-04-01T00:00:00",
            "2015-05-01T00:00:00",
            "2015-06-01T00:00:00",
            "2015-07-01T00:00:00",
            "2015-08-01T00:00:00",
            "2015-09-01T00:00:00",
            "2015-10-01T00:00:00",
            "2015-11-01T00:00:00",
            "2015-12-01T00:00:00"
           ],
           "xaxis": "x",
           "y": [
            0.9407645548774581,
            0.9448131166881166,
            0.9575365688268914,
            0.9552752752752752,
            0.9292356873002035,
            0.960269019019019,
            0.8788215634989829,
            0.9371924343698538,
            0.9021096096096095,
            0.9020609318996415,
            0.8751151151151152,
            0.8210089121379444
           ],
           "yaxis": "y"
          }
         ],
         "name": "2015"
        },
        {
         "data": [
          {
           "hovertemplate": "<b>%{hovertext}</b><br><br>org_type=charitable<br>year=2016<br>Y-M=%{x}<br>occupancy_rate=%{y}<extra></extra>",
           "hovertext": [
            "charitable",
            "charitable",
            "charitable",
            "charitable",
            "charitable",
            "charitable",
            "charitable",
            "charitable",
            "charitable",
            "charitable",
            "charitable",
            "charitable"
           ],
           "ids": [
            "charitable",
            "charitable",
            "charitable",
            "charitable",
            "charitable",
            "charitable",
            "charitable",
            "charitable",
            "charitable",
            "charitable",
            "charitable",
            "charitable"
           ],
           "legendgroup": "charitable",
           "line": {
            "color": "#636efa",
            "dash": "solid"
           },
           "marker": {
            "symbol": "circle"
           },
           "mode": "lines",
           "name": "charitable",
           "orientation": "v",
           "showlegend": true,
           "type": "scatter",
           "x": [
            "2016-01-01T00:00:00",
            "2016-02-01T00:00:00",
            "2016-03-01T00:00:00",
            "2016-04-01T00:00:00",
            "2016-05-01T00:00:00",
            "2016-06-01T00:00:00",
            "2016-07-01T00:00:00",
            "2016-08-01T00:00:00",
            "2016-09-01T00:00:00",
            "2016-10-01T00:00:00",
            "2016-11-01T00:00:00",
            "2016-12-01T00:00:00"
           ],
           "xaxis": "x",
           "y": [
            0.6834935124358597,
            0.7273159696747371,
            0.695642644703729,
            0.6534306315433975,
            0.683794631281934,
            0.6908367612293144,
            0.6826999869268229,
            0.6767554498807072,
            0.682251705504897,
            0.6364026865378959,
            0.5486768469267139,
            0.5833038492335849
           ],
           "yaxis": "y"
          },
          {
           "hovertemplate": "<b>%{hovertext}</b><br><br>org_type=private<br>year=2016<br>Y-M=%{x}<br>occupancy_rate=%{y}<extra></extra>",
           "hovertext": [
            "private",
            "private",
            "private",
            "private",
            "private",
            "private",
            "private",
            "private",
            "private",
            "private",
            "private",
            "private"
           ],
           "ids": [
            "private",
            "private",
            "private",
            "private",
            "private",
            "private",
            "private",
            "private",
            "private",
            "private",
            "private",
            "private"
           ],
           "legendgroup": "private",
           "line": {
            "color": "#EF553B",
            "dash": "solid"
           },
           "marker": {
            "symbol": "circle"
           },
           "mode": "lines",
           "name": "private",
           "orientation": "v",
           "showlegend": true,
           "type": "scatter",
           "x": [
            "2016-01-01T00:00:00",
            "2016-02-01T00:00:00",
            "2016-03-01T00:00:00",
            "2016-04-01T00:00:00",
            "2016-05-01T00:00:00",
            "2016-06-01T00:00:00",
            "2016-07-01T00:00:00",
            "2016-08-01T00:00:00",
            "2016-09-01T00:00:00",
            "2016-10-01T00:00:00",
            "2016-11-01T00:00:00",
            "2016-12-01T00:00:00"
           ],
           "xaxis": "x",
           "y": [
            1.0269393241167435,
            1.0380747126436782,
            1.0311059907834101,
            1.0302380952380952,
            1.030337941628264,
            1.0144642857142856,
            1.0159754224270352,
            0.9969278033794163,
            1.0245560936238902,
            1.010311059907834,
            1.010218253968254,
            0.999731182795699
           ],
           "yaxis": "y"
          },
          {
           "hovertemplate": "<b>%{hovertext}</b><br><br>org_type=public<br>year=2016<br>Y-M=%{x}<br>occupancy_rate=%{y}<extra></extra>",
           "hovertext": [
            "public",
            "public",
            "public",
            "public",
            "public",
            "public",
            "public",
            "public",
            "public",
            "public",
            "public",
            "public"
           ],
           "ids": [
            "public",
            "public",
            "public",
            "public",
            "public",
            "public",
            "public",
            "public",
            "public",
            "public",
            "public",
            "public"
           ],
           "legendgroup": "public",
           "line": {
            "color": "#00cc96",
            "dash": "solid"
           },
           "marker": {
            "symbol": "circle"
           },
           "mode": "lines",
           "name": "public",
           "orientation": "v",
           "showlegend": true,
           "type": "scatter",
           "x": [
            "2016-01-01T00:00:00",
            "2016-02-01T00:00:00",
            "2016-03-01T00:00:00",
            "2016-04-01T00:00:00",
            "2016-05-01T00:00:00",
            "2016-06-01T00:00:00",
            "2016-07-01T00:00:00",
            "2016-08-01T00:00:00",
            "2016-09-01T00:00:00",
            "2016-10-01T00:00:00",
            "2016-11-01T00:00:00",
            "2016-12-01T00:00:00"
           ],
           "xaxis": "x",
           "y": [
            0.8770288143931408,
            0.8711905620485741,
            0.8565298936779012,
            0.8253635128125325,
            0.7131792867684709,
            0.8127037521181312,
            0.8138218192892449,
            0.8272887764424767,
            0.8399419995158558,
            0.7055014959388773,
            0.7550458398174084,
            0.7466741614208408
           ],
           "yaxis": "y"
          },
          {
           "hovertemplate": "<b>%{hovertext}</b><br><br>org_type=religious<br>year=2016<br>Y-M=%{x}<br>occupancy_rate=%{y}<extra></extra>",
           "hovertext": [
            "religious",
            "religious",
            "religious",
            "religious",
            "religious",
            "religious",
            "religious",
            "religious",
            "religious",
            "religious",
            "religious",
            "religious"
           ],
           "ids": [
            "religious",
            "religious",
            "religious",
            "religious",
            "religious",
            "religious",
            "religious",
            "religious",
            "religious",
            "religious",
            "religious",
            "religious"
           ],
           "legendgroup": "religious",
           "line": {
            "color": "#ab63fa",
            "dash": "solid"
           },
           "marker": {
            "symbol": "circle"
           },
           "mode": "lines",
           "name": "religious",
           "orientation": "v",
           "showlegend": true,
           "type": "scatter",
           "x": [
            "2016-01-01T00:00:00",
            "2016-02-01T00:00:00",
            "2016-03-01T00:00:00",
            "2016-04-01T00:00:00",
            "2016-05-01T00:00:00",
            "2016-06-01T00:00:00",
            "2016-07-01T00:00:00",
            "2016-08-01T00:00:00",
            "2016-09-01T00:00:00",
            "2016-10-01T00:00:00",
            "2016-11-01T00:00:00",
            "2016-12-01T00:00:00"
           ],
           "xaxis": "x",
           "y": [
            0.8216264651748523,
            0.9220694832763797,
            0.8546691853143467,
            0.7480167667667668,
            0.7770003874842584,
            0.7363851351351351,
            0.8078017533662696,
            0.8972512835416061,
            0.8231481481481481,
            0.8685193257773903,
            0.7919069069069069,
            0.6942143756659885
           ],
           "yaxis": "y"
          }
         ],
         "name": "2016"
        },
        {
         "data": [
          {
           "hovertemplate": "<b>%{hovertext}</b><br><br>org_type=charitable<br>year=2017<br>Y-M=%{x}<br>occupancy_rate=%{y}<extra></extra>",
           "hovertext": [
            "charitable",
            "charitable",
            "charitable",
            "charitable",
            "charitable",
            "charitable",
            "charitable",
            "charitable",
            "charitable",
            "charitable",
            "charitable",
            "charitable"
           ],
           "ids": [
            "charitable",
            "charitable",
            "charitable",
            "charitable",
            "charitable",
            "charitable",
            "charitable",
            "charitable",
            "charitable",
            "charitable",
            "charitable",
            "charitable"
           ],
           "legendgroup": "charitable",
           "line": {
            "color": "#636efa",
            "dash": "solid"
           },
           "marker": {
            "symbol": "circle"
           },
           "mode": "lines",
           "name": "charitable",
           "orientation": "v",
           "showlegend": true,
           "type": "scatter",
           "x": [
            "2017-01-01T00:00:00",
            "2017-02-01T00:00:00",
            "2017-03-01T00:00:00",
            "2017-04-01T00:00:00",
            "2017-05-01T00:00:00",
            "2017-06-01T00:00:00",
            "2017-07-01T00:00:00",
            "2017-08-01T00:00:00",
            "2017-09-01T00:00:00",
            "2017-10-01T00:00:00",
            "2017-11-01T00:00:00",
            "2017-12-01T00:00:00"
           ],
           "xaxis": "x",
           "y": [
            0.5677184997712195,
            0.6487564906281662,
            0.7468378136200717,
            0.7571186930091186,
            0.7974075345077405,
            0.7855891646966116,
            0.7737787882254252,
            0.801238103408831,
            0.8163227738376675,
            0.8567141577060933,
            0.8332301221434201,
            0.7747045870510181
           ],
           "yaxis": "y"
          },
          {
           "hovertemplate": "<b>%{hovertext}</b><br><br>org_type=private<br>year=2017<br>Y-M=%{x}<br>occupancy_rate=%{y}<extra></extra>",
           "hovertext": [
            "private",
            "private",
            "private",
            "private",
            "private",
            "private",
            "private",
            "private",
            "private",
            "private",
            "private",
            "private"
           ],
           "ids": [
            "private",
            "private",
            "private",
            "private",
            "private",
            "private",
            "private",
            "private",
            "private",
            "private",
            "private",
            "private"
           ],
           "legendgroup": "private",
           "line": {
            "color": "#EF553B",
            "dash": "solid"
           },
           "marker": {
            "symbol": "circle"
           },
           "mode": "lines",
           "name": "private",
           "orientation": "v",
           "showlegend": true,
           "type": "scatter",
           "x": [
            "2017-01-01T00:00:00",
            "2017-02-01T00:00:00",
            "2017-03-01T00:00:00",
            "2017-04-01T00:00:00",
            "2017-05-01T00:00:00",
            "2017-06-01T00:00:00",
            "2017-07-01T00:00:00",
            "2017-08-01T00:00:00",
            "2017-09-01T00:00:00",
            "2017-10-01T00:00:00",
            "2017-11-01T00:00:00",
            "2017-12-01T00:00:00"
           ],
           "xaxis": "x",
           "y": [
            1.0145353302611368,
            1.0151785714285715,
            0.9991359447004607,
            0.9931746031746032,
            0.996178955453149,
            0.9702777777777778,
            0.9744623655913978,
            0.9495391705069125,
            0.9766865079365079,
            0.9908602150537635,
            1.0111904761904762,
            0.9854262672811059
           ],
           "yaxis": "y"
          },
          {
           "hovertemplate": "<b>%{hovertext}</b><br><br>org_type=public<br>year=2017<br>Y-M=%{x}<br>occupancy_rate=%{y}<extra></extra>",
           "hovertext": [
            "public",
            "public",
            "public",
            "public",
            "public",
            "public",
            "public",
            "public",
            "public",
            "public",
            "public",
            "public"
           ],
           "ids": [
            "public",
            "public",
            "public",
            "public",
            "public",
            "public",
            "public",
            "public",
            "public",
            "public",
            "public",
            "public"
           ],
           "legendgroup": "public",
           "line": {
            "color": "#00cc96",
            "dash": "solid"
           },
           "marker": {
            "symbol": "circle"
           },
           "mode": "lines",
           "name": "public",
           "orientation": "v",
           "showlegend": true,
           "type": "scatter",
           "x": [
            "2017-01-01T00:00:00",
            "2017-02-01T00:00:00",
            "2017-03-01T00:00:00",
            "2017-04-01T00:00:00",
            "2017-05-01T00:00:00",
            "2017-06-01T00:00:00",
            "2017-07-01T00:00:00",
            "2017-08-01T00:00:00",
            "2017-09-01T00:00:00",
            "2017-10-01T00:00:00",
            "2017-11-01T00:00:00",
            "2017-12-01T00:00:00"
           ],
           "xaxis": "x",
           "y": [
            0.7537729235063202,
            0.7395322684629407,
            0.748079189381846,
            0.6564293702666252,
            0.8093475765455524,
            0.7622628903413217,
            0.720271932906974,
            0.721019045611076,
            0.7294087630113775,
            0.7514500433387213,
            0.7615502299685306,
            0.7444304823482559
           ],
           "yaxis": "y"
          },
          {
           "hovertemplate": "<b>%{hovertext}</b><br><br>org_type=religious<br>year=2017<br>Y-M=%{x}<br>occupancy_rate=%{y}<extra></extra>",
           "hovertext": [
            "religious",
            "religious",
            "religious",
            "religious",
            "religious",
            "religious",
            "religious",
            "religious",
            "religious",
            "religious",
            "religious",
            "religious"
           ],
           "ids": [
            "religious",
            "religious",
            "religious",
            "religious",
            "religious",
            "religious",
            "religious",
            "religious",
            "religious",
            "religious",
            "religious",
            "religious"
           ],
           "legendgroup": "religious",
           "line": {
            "color": "#ab63fa",
            "dash": "solid"
           },
           "marker": {
            "symbol": "circle"
           },
           "mode": "lines",
           "name": "religious",
           "orientation": "v",
           "showlegend": true,
           "type": "scatter",
           "x": [
            "2017-01-01T00:00:00",
            "2017-02-01T00:00:00",
            "2017-03-01T00:00:00",
            "2017-04-01T00:00:00",
            "2017-05-01T00:00:00",
            "2017-06-01T00:00:00",
            "2017-07-01T00:00:00",
            "2017-08-01T00:00:00",
            "2017-09-01T00:00:00",
            "2017-10-01T00:00:00",
            "2017-11-01T00:00:00",
            "2017-12-01T00:00:00"
           ],
           "xaxis": "x",
           "y": [
            0.7951031676838128,
            0.7247305341055341,
            0.7392448900513418,
            0.8157407407407408,
            0.7443572604862928,
            0.7730982386881263,
            0.7560726048629274,
            0.7053545480964836,
            0.7424061561561561,
            0.8582582582582583,
            0.7942404904904905,
            0.6836663276179406
           ],
           "yaxis": "y"
          }
         ],
         "name": "2017"
        },
        {
         "data": [
          {
           "hovertemplate": "<b>%{hovertext}</b><br><br>org_type=charitable<br>year=2018<br>Y-M=%{x}<br>occupancy_rate=%{y}<extra></extra>",
           "hovertext": [
            "charitable",
            "charitable",
            "charitable",
            "charitable",
            "charitable",
            "charitable",
            "charitable",
            "charitable",
            "charitable",
            "charitable",
            "charitable",
            "charitable"
           ],
           "ids": [
            "charitable",
            "charitable",
            "charitable",
            "charitable",
            "charitable",
            "charitable",
            "charitable",
            "charitable",
            "charitable",
            "charitable",
            "charitable",
            "charitable"
           ],
           "legendgroup": "charitable",
           "line": {
            "color": "#636efa",
            "dash": "solid"
           },
           "marker": {
            "symbol": "circle"
           },
           "mode": "lines",
           "name": "charitable",
           "orientation": "v",
           "showlegend": true,
           "type": "scatter",
           "x": [
            "2018-01-01T00:00:00",
            "2018-02-01T00:00:00",
            "2018-03-01T00:00:00",
            "2018-04-01T00:00:00",
            "2018-05-01T00:00:00",
            "2018-06-01T00:00:00",
            "2018-07-01T00:00:00",
            "2018-08-01T00:00:00",
            "2018-09-01T00:00:00",
            "2018-10-01T00:00:00",
            "2018-11-01T00:00:00",
            "2018-12-01T00:00:00"
           ],
           "xaxis": "x",
           "y": [
            0.7923952947456722,
            0.8210883780817291,
            0.8046604133302829,
            0.7963861111111111,
            0.8239471326164874,
            0.8220148148148149,
            0.8459283154121864,
            0.8645250896057348,
            0.7999174603174602,
            0.7728540706605224,
            0.742854761904762,
            0.7052317460317461
           ],
           "yaxis": "y"
          },
          {
           "hovertemplate": "<b>%{hovertext}</b><br><br>org_type=private<br>year=2018<br>Y-M=%{x}<br>occupancy_rate=%{y}<extra></extra>",
           "hovertext": [
            "private",
            "private",
            "private",
            "private",
            "private",
            "private",
            "private",
            "private",
            "private",
            "private",
            "private",
            "private"
           ],
           "ids": [
            "private",
            "private",
            "private",
            "private",
            "private",
            "private",
            "private",
            "private",
            "private",
            "private",
            "private",
            "private"
           ],
           "legendgroup": "private",
           "line": {
            "color": "#EF553B",
            "dash": "solid"
           },
           "marker": {
            "symbol": "circle"
           },
           "mode": "lines",
           "name": "private",
           "orientation": "v",
           "showlegend": true,
           "type": "scatter",
           "x": [
            "2018-01-01T00:00:00",
            "2018-02-01T00:00:00",
            "2018-03-01T00:00:00",
            "2018-04-01T00:00:00",
            "2018-05-01T00:00:00",
            "2018-06-01T00:00:00",
            "2018-07-01T00:00:00",
            "2018-08-01T00:00:00",
            "2018-09-01T00:00:00",
            "2018-10-01T00:00:00",
            "2018-11-01T00:00:00",
            "2018-12-01T00:00:00"
           ],
           "xaxis": "x",
           "y": [
            1.0027841781874038,
            1.005952380952381,
            1.0033218125960062,
            0.9822222222222222,
            0.968778801843318,
            0.9643253968253968,
            0.9577572964669738,
            0.878688524590164,
            0.9233531746031747,
            0.9427803379416283,
            0.9839087301587301,
            0.9694607843137254
           ],
           "yaxis": "y"
          },
          {
           "hovertemplate": "<b>%{hovertext}</b><br><br>org_type=public<br>year=2018<br>Y-M=%{x}<br>occupancy_rate=%{y}<extra></extra>",
           "hovertext": [
            "public",
            "public",
            "public",
            "public",
            "public",
            "public",
            "public",
            "public",
            "public",
            "public",
            "public",
            "public"
           ],
           "ids": [
            "public",
            "public",
            "public",
            "public",
            "public",
            "public",
            "public",
            "public",
            "public",
            "public",
            "public",
            "public"
           ],
           "legendgroup": "public",
           "line": {
            "color": "#00cc96",
            "dash": "solid"
           },
           "marker": {
            "symbol": "circle"
           },
           "mode": "lines",
           "name": "public",
           "orientation": "v",
           "showlegend": true,
           "type": "scatter",
           "x": [
            "2018-01-01T00:00:00",
            "2018-02-01T00:00:00",
            "2018-03-01T00:00:00",
            "2018-04-01T00:00:00",
            "2018-05-01T00:00:00",
            "2018-06-01T00:00:00",
            "2018-07-01T00:00:00",
            "2018-08-01T00:00:00",
            "2018-09-01T00:00:00",
            "2018-10-01T00:00:00",
            "2018-11-01T00:00:00",
            "2018-12-01T00:00:00"
           ],
           "xaxis": "x",
           "y": [
            0.7503355119825708,
            0.7684579313206764,
            0.7565998079040457,
            0.7318940692326312,
            0.6841361538641741,
            0.6615709513435003,
            0.6088144868461124,
            0.5063178953779839,
            0.49674248366013074,
            0.4694376273807014,
            0.4653076736867586,
            0.46597821350762525
           ],
           "yaxis": "y"
          },
          {
           "hovertemplate": "<b>%{hovertext}</b><br><br>org_type=religious<br>year=2018<br>Y-M=%{x}<br>occupancy_rate=%{y}<extra></extra>",
           "hovertext": [
            "religious",
            "religious",
            "religious",
            "religious",
            "religious",
            "religious",
            "religious",
            "religious",
            "religious",
            "religious",
            "religious",
            "religious"
           ],
           "ids": [
            "religious",
            "religious",
            "religious",
            "religious",
            "religious",
            "religious",
            "religious",
            "religious",
            "religious",
            "religious",
            "religious",
            "religious"
           ],
           "legendgroup": "religious",
           "line": {
            "color": "#ab63fa",
            "dash": "solid"
           },
           "marker": {
            "symbol": "circle"
           },
           "mode": "lines",
           "name": "religious",
           "orientation": "v",
           "showlegend": true,
           "type": "scatter",
           "x": [
            "2018-01-01T00:00:00",
            "2018-02-01T00:00:00",
            "2018-03-01T00:00:00",
            "2018-04-01T00:00:00",
            "2018-05-01T00:00:00",
            "2018-06-01T00:00:00",
            "2018-07-01T00:00:00",
            "2018-08-01T00:00:00",
            "2018-09-01T00:00:00",
            "2018-10-01T00:00:00",
            "2018-11-01T00:00:00",
            "2018-12-01T00:00:00"
           ],
           "xaxis": "x",
           "y": [
            0.8359815460621912,
            0.8110119047619048,
            0.8640245083793471,
            0.8624537037037038,
            0.7939249733604572,
            0.8306956956956957,
            0.859471568342536,
            0.7866342148600214,
            0.7466766766766767,
            0.6152596144531629,
            0.746936936936937,
            0.8193606106106106
           ],
           "yaxis": "y"
          }
         ],
         "name": "2018"
        },
        {
         "data": [
          {
           "hovertemplate": "<b>%{hovertext}</b><br><br>org_type=charitable<br>year=2019<br>Y-M=%{x}<br>occupancy_rate=%{y}<extra></extra>",
           "hovertext": [
            "charitable",
            "charitable",
            "charitable",
            "charitable",
            "charitable",
            "charitable",
            "charitable",
            "charitable",
            "charitable",
            "charitable",
            "charitable",
            "charitable"
           ],
           "ids": [
            "charitable",
            "charitable",
            "charitable",
            "charitable",
            "charitable",
            "charitable",
            "charitable",
            "charitable",
            "charitable",
            "charitable",
            "charitable",
            "charitable"
           ],
           "legendgroup": "charitable",
           "line": {
            "color": "#636efa",
            "dash": "solid"
           },
           "marker": {
            "symbol": "circle"
           },
           "mode": "lines",
           "name": "charitable",
           "orientation": "v",
           "showlegend": true,
           "type": "scatter",
           "x": [
            "2019-01-01T00:00:00",
            "2019-02-01T00:00:00",
            "2019-03-01T00:00:00",
            "2019-04-01T00:00:00",
            "2019-05-01T00:00:00",
            "2019-06-01T00:00:00",
            "2019-07-01T00:00:00",
            "2019-08-01T00:00:00",
            "2019-09-01T00:00:00",
            "2019-10-01T00:00:00",
            "2019-11-01T00:00:00",
            "2019-12-01T00:00:00"
           ],
           "xaxis": "x",
           "y": [
            0.8733629032258065,
            0.7757678571428572,
            0.6811758832565284,
            0.7696537037037037,
            0.6965376344086022,
            0.7022379629629629,
            0.5774193548387097,
            0.6024543010752688,
            0.6023888888888889,
            0.6892123655913979,
            0.697775,
            0.6364731182795699
           ],
           "yaxis": "y"
          },
          {
           "hovertemplate": "<b>%{hovertext}</b><br><br>org_type=private<br>year=2019<br>Y-M=%{x}<br>occupancy_rate=%{y}<extra></extra>",
           "hovertext": [
            "private",
            "private",
            "private",
            "private",
            "private",
            "private",
            "private",
            "private",
            "private",
            "private",
            "private",
            "private"
           ],
           "ids": [
            "private",
            "private",
            "private",
            "private",
            "private",
            "private",
            "private",
            "private",
            "private",
            "private",
            "private",
            "private"
           ],
           "legendgroup": "private",
           "line": {
            "color": "#EF553B",
            "dash": "solid"
           },
           "marker": {
            "symbol": "circle"
           },
           "mode": "lines",
           "name": "private",
           "orientation": "v",
           "showlegend": true,
           "type": "scatter",
           "x": [
            "2019-01-01T00:00:00",
            "2019-02-01T00:00:00",
            "2019-03-01T00:00:00",
            "2019-04-01T00:00:00",
            "2019-05-01T00:00:00",
            "2019-06-01T00:00:00",
            "2019-07-01T00:00:00",
            "2019-08-01T00:00:00",
            "2019-09-01T00:00:00",
            "2019-10-01T00:00:00",
            "2019-11-01T00:00:00",
            "2019-12-01T00:00:00"
           ],
           "xaxis": "x",
           "y": [
            0.9774193548387097,
            1.000297619047619,
            1.021505376344086,
            0.9768055555555556,
            0.953763440860215,
            0.935,
            0.9629032258064517,
            0.9291666666666667,
            0.9593055555555555,
            0.9830645161290323,
            0.9912500000000001,
            1.006989247311828
           ],
           "yaxis": "y"
          },
          {
           "hovertemplate": "<b>%{hovertext}</b><br><br>org_type=public<br>year=2019<br>Y-M=%{x}<br>occupancy_rate=%{y}<extra></extra>",
           "hovertext": [
            "public",
            "public",
            "public",
            "public",
            "public",
            "public",
            "public",
            "public",
            "public",
            "public",
            "public",
            "public"
           ],
           "ids": [
            "public",
            "public",
            "public",
            "public",
            "public",
            "public",
            "public",
            "public",
            "public",
            "public",
            "public",
            "public"
           ],
           "legendgroup": "public",
           "line": {
            "color": "#00cc96",
            "dash": "solid"
           },
           "marker": {
            "symbol": "circle"
           },
           "mode": "lines",
           "name": "public",
           "orientation": "v",
           "showlegend": true,
           "type": "scatter",
           "x": [
            "2019-01-01T00:00:00",
            "2019-02-01T00:00:00",
            "2019-03-01T00:00:00",
            "2019-04-01T00:00:00",
            "2019-05-01T00:00:00",
            "2019-06-01T00:00:00",
            "2019-07-01T00:00:00",
            "2019-08-01T00:00:00",
            "2019-09-01T00:00:00",
            "2019-10-01T00:00:00",
            "2019-11-01T00:00:00",
            "2019-12-01T00:00:00"
           ],
           "xaxis": "x",
           "y": [
            0.4875151685524867,
            0.4762475360514576,
            0.41761707311359436,
            0.38555403556771545,
            0.3763436937665789,
            0.36434635456249687,
            0.34657880156313586,
            0.32802906609005195,
            0.3296154430764554,
            0.33917959882127396,
            0.3520074986066778,
            0.341533716762524
           ],
           "yaxis": "y"
          },
          {
           "hovertemplate": "<b>%{hovertext}</b><br><br>org_type=religious<br>year=2019<br>Y-M=%{x}<br>occupancy_rate=%{y}<extra></extra>",
           "hovertext": [
            "religious",
            "religious",
            "religious",
            "religious",
            "religious",
            "religious",
            "religious",
            "religious",
            "religious",
            "religious",
            "religious",
            "religious"
           ],
           "ids": [
            "religious",
            "religious",
            "religious",
            "religious",
            "religious",
            "religious",
            "religious",
            "religious",
            "religious",
            "religious",
            "religious",
            "religious"
           ],
           "legendgroup": "religious",
           "line": {
            "color": "#ab63fa",
            "dash": "solid"
           },
           "marker": {
            "symbol": "circle"
           },
           "mode": "lines",
           "name": "religious",
           "orientation": "v",
           "showlegend": true,
           "type": "scatter",
           "x": [
            "2019-01-01T00:00:00",
            "2019-02-01T00:00:00",
            "2019-03-01T00:00:00",
            "2019-04-01T00:00:00",
            "2019-05-01T00:00:00",
            "2019-06-01T00:00:00",
            "2019-07-01T00:00:00",
            "2019-08-01T00:00:00",
            "2019-09-01T00:00:00",
            "2019-10-01T00:00:00",
            "2019-11-01T00:00:00",
            "2019-12-01T00:00:00"
           ],
           "xaxis": "x",
           "y": [
            0.8201261745616584,
            0.7873056091806092,
            0.7933800736220091,
            0.7068205705705706,
            0.7418894701152766,
            0.6614702202202202,
            0.762022910006781,
            0.7025719267654751,
            0.8249937437437437,
            0.7572326358616681,
            0.7976413913913915,
            0.7275356001162453
           ],
           "yaxis": "y"
          }
         ],
         "name": "2019"
        },
        {
         "data": [
          {
           "hovertemplate": "<b>%{hovertext}</b><br><br>org_type=charitable<br>year=2020<br>Y-M=%{x}<br>occupancy_rate=%{y}<extra></extra>",
           "hovertext": [
            "charitable",
            "charitable",
            "charitable",
            "charitable",
            "charitable",
            "charitable",
            "charitable",
            "charitable",
            "charitable",
            "charitable",
            "charitable",
            "charitable"
           ],
           "ids": [
            "charitable",
            "charitable",
            "charitable",
            "charitable",
            "charitable",
            "charitable",
            "charitable",
            "charitable",
            "charitable",
            "charitable",
            "charitable",
            "charitable"
           ],
           "legendgroup": "charitable",
           "line": {
            "color": "#636efa",
            "dash": "solid"
           },
           "marker": {
            "symbol": "circle"
           },
           "mode": "lines",
           "name": "charitable",
           "orientation": "v",
           "showlegend": true,
           "type": "scatter",
           "x": [
            "2020-01-01T00:00:00",
            "2020-02-01T00:00:00",
            "2020-03-01T00:00:00",
            "2020-04-01T00:00:00",
            "2020-05-01T00:00:00",
            "2020-06-01T00:00:00",
            "2020-07-01T00:00:00",
            "2020-08-01T00:00:00",
            "2020-09-01T00:00:00",
            "2020-10-01T00:00:00",
            "2020-11-01T00:00:00",
            "2020-12-01T00:00:00"
           ],
           "xaxis": "x",
           "y": [
            0.678431899641577,
            0.6745507662835248,
            0.5378128520225295,
            0.6011335978835979,
            0.5941474654377881,
            0.5458560846560846,
            0.6379032258064516,
            0.6201002304147465,
            0.6379630952380952,
            0.6200883256528418,
            0.6572563492063492,
            0.629170452281331
           ],
           "yaxis": "y"
          },
          {
           "hovertemplate": "<b>%{hovertext}</b><br><br>org_type=private<br>year=2020<br>Y-M=%{x}<br>occupancy_rate=%{y}<extra></extra>",
           "hovertext": [
            "private",
            "private",
            "private",
            "private",
            "private",
            "private",
            "private",
            "private",
            "private",
            "private",
            "private",
            "private"
           ],
           "ids": [
            "private",
            "private",
            "private",
            "private",
            "private",
            "private",
            "private",
            "private",
            "private",
            "private",
            "private",
            "private"
           ],
           "legendgroup": "private",
           "line": {
            "color": "#EF553B",
            "dash": "solid"
           },
           "marker": {
            "symbol": "circle"
           },
           "mode": "lines",
           "name": "private",
           "orientation": "v",
           "showlegend": true,
           "type": "scatter",
           "x": [
            "2020-01-01T00:00:00",
            "2020-02-01T00:00:00",
            "2020-03-01T00:00:00",
            "2020-04-01T00:00:00",
            "2020-05-01T00:00:00",
            "2020-06-01T00:00:00",
            "2020-07-01T00:00:00",
            "2020-08-01T00:00:00",
            "2020-09-01T00:00:00",
            "2020-10-01T00:00:00",
            "2020-11-01T00:00:00",
            "2020-12-01T00:00:00"
           ],
           "xaxis": "x",
           "y": [
            1.0135752688172044,
            1.003448275862069,
            0.9266129032258065,
            0.6960030303030303,
            0.658322627193595,
            0.6195998019409784,
            0.585020027892861,
            0.6135043104638512,
            0.6177207267087627,
            0.5947898211523787,
            0.741620940500011,
            0.7129800243095723
           ],
           "yaxis": "y"
          },
          {
           "hovertemplate": "<b>%{hovertext}</b><br><br>org_type=public<br>year=2020<br>Y-M=%{x}<br>occupancy_rate=%{y}<extra></extra>",
           "hovertext": [
            "public",
            "public",
            "public",
            "public",
            "public",
            "public",
            "public",
            "public",
            "public",
            "public",
            "public",
            "public"
           ],
           "ids": [
            "public",
            "public",
            "public",
            "public",
            "public",
            "public",
            "public",
            "public",
            "public",
            "public",
            "public",
            "public"
           ],
           "legendgroup": "public",
           "line": {
            "color": "#00cc96",
            "dash": "solid"
           },
           "marker": {
            "symbol": "circle"
           },
           "mode": "lines",
           "name": "public",
           "orientation": "v",
           "showlegend": true,
           "type": "scatter",
           "x": [
            "2020-01-01T00:00:00",
            "2020-02-01T00:00:00",
            "2020-03-01T00:00:00",
            "2020-04-01T00:00:00",
            "2020-05-01T00:00:00",
            "2020-06-01T00:00:00",
            "2020-07-01T00:00:00",
            "2020-08-01T00:00:00",
            "2020-09-01T00:00:00",
            "2020-10-01T00:00:00",
            "2020-11-01T00:00:00",
            "2020-12-01T00:00:00"
           ],
           "xaxis": "x",
           "y": [
            0.3606292749658003,
            0.3854795037501769,
            0.40988831521605895,
            0.7110507678229854,
            0.6203765186426476,
            0.3667344811218735,
            0.41068615023752264,
            0.4399628914393053,
            0.5332564156352703,
            0.596149802976426,
            0.812584855161976,
            0.8011091929327272
           ],
           "yaxis": "y"
          },
          {
           "hovertemplate": "<b>%{hovertext}</b><br><br>org_type=religious<br>year=2020<br>Y-M=%{x}<br>occupancy_rate=%{y}<extra></extra>",
           "hovertext": [
            "religious",
            "religious",
            "religious",
            "religious",
            "religious",
            "religious",
            "religious",
            "religious",
            "religious",
            "religious",
            "religious",
            "religious"
           ],
           "ids": [
            "religious",
            "religious",
            "religious",
            "religious",
            "religious",
            "religious",
            "religious",
            "religious",
            "religious",
            "religious",
            "religious",
            "religious"
           ],
           "legendgroup": "religious",
           "line": {
            "color": "#ab63fa",
            "dash": "solid"
           },
           "marker": {
            "symbol": "circle"
           },
           "mode": "lines",
           "name": "religious",
           "orientation": "v",
           "showlegend": true,
           "type": "scatter",
           "x": [
            "2020-01-01T00:00:00",
            "2020-02-01T00:00:00",
            "2020-03-01T00:00:00",
            "2020-04-01T00:00:00",
            "2020-05-01T00:00:00",
            "2020-06-01T00:00:00",
            "2020-07-01T00:00:00",
            "2020-08-01T00:00:00",
            "2020-09-01T00:00:00",
            "2020-10-01T00:00:00",
            "2020-11-01T00:00:00",
            "2020-12-01T00:00:00"
           ],
           "xaxis": "x",
           "y": [
            0.7748474280732345,
            0.7786036036036036,
            0.6131381381381381,
            0.5249960598896769,
            0.3326931289559979,
            0.3848589440504334,
            0.40997216502707234,
            0.4563349347975291,
            0.41804880108071596,
            0.4613823250645488,
            0.5043425157769964,
            0.5759148218427156
           ],
           "yaxis": "y"
          }
         ],
         "name": "2020"
        },
        {
         "data": [
          {
           "hovertemplate": "<b>%{hovertext}</b><br><br>org_type=charitable<br>year=2021<br>Y-M=%{x}<br>occupancy_rate=%{y}<extra></extra>",
           "hovertext": [
            "charitable",
            "charitable",
            "charitable",
            "charitable",
            "charitable",
            "charitable",
            "charitable",
            "charitable",
            "charitable",
            "charitable",
            "charitable",
            "charitable"
           ],
           "ids": [
            "charitable",
            "charitable",
            "charitable",
            "charitable",
            "charitable",
            "charitable",
            "charitable",
            "charitable",
            "charitable",
            "charitable",
            "charitable",
            "charitable"
           ],
           "legendgroup": "charitable",
           "line": {
            "color": "#636efa",
            "dash": "solid"
           },
           "marker": {
            "symbol": "circle"
           },
           "mode": "lines",
           "name": "charitable",
           "orientation": "v",
           "showlegend": true,
           "type": "scatter",
           "x": [
            "2021-01-01T00:00:00",
            "2021-02-01T00:00:00",
            "2021-03-01T00:00:00",
            "2021-04-01T00:00:00",
            "2021-05-01T00:00:00",
            "2021-06-01T00:00:00",
            "2021-07-01T00:00:00",
            "2021-08-01T00:00:00",
            "2021-09-01T00:00:00",
            "2021-10-01T00:00:00",
            "2021-11-01T00:00:00",
            "2021-12-01T00:00:00"
           ],
           "xaxis": "x",
           "y": [
            0.6187670890937019,
            0.5931201459750567,
            0.5955530913978495,
            0.5491268518518518,
            0.4872022849462366,
            0.6242458333333333,
            0.6171317204301076,
            0.6101433691756273,
            0.6074312289562289,
            0.5724755417073966,
            0.5888503787878787,
            0.553863514173998
           ],
           "yaxis": "y"
          },
          {
           "hovertemplate": "<b>%{hovertext}</b><br><br>org_type=private<br>year=2021<br>Y-M=%{x}<br>occupancy_rate=%{y}<extra></extra>",
           "hovertext": [
            "private",
            "private",
            "private",
            "private",
            "private",
            "private",
            "private",
            "private",
            "private",
            "private",
            "private",
            "private"
           ],
           "ids": [
            "private",
            "private",
            "private",
            "private",
            "private",
            "private",
            "private",
            "private",
            "private",
            "private",
            "private",
            "private"
           ],
           "legendgroup": "private",
           "line": {
            "color": "#EF553B",
            "dash": "solid"
           },
           "marker": {
            "symbol": "circle"
           },
           "mode": "lines",
           "name": "private",
           "orientation": "v",
           "showlegend": true,
           "type": "scatter",
           "x": [
            "2021-01-01T00:00:00",
            "2021-02-01T00:00:00",
            "2021-03-01T00:00:00",
            "2021-04-01T00:00:00",
            "2021-05-01T00:00:00",
            "2021-06-01T00:00:00",
            "2021-07-01T00:00:00",
            "2021-08-01T00:00:00",
            "2021-09-01T00:00:00",
            "2021-10-01T00:00:00",
            "2021-11-01T00:00:00",
            "2021-12-01T00:00:00"
           ],
           "xaxis": "x",
           "y": [
            0.7006447242316248,
            0.7296416445366025,
            0.762743475689396,
            0.7408431372549019,
            0.7525958555465196,
            0.719241051976346,
            0.735315502545104,
            0.5835369228336496,
            0.8272385620915033,
            0.8238535736875395,
            0.8434477124183007,
            0.8680977229601518
           ],
           "yaxis": "y"
          },
          {
           "hovertemplate": "<b>%{hovertext}</b><br><br>org_type=public<br>year=2021<br>Y-M=%{x}<br>occupancy_rate=%{y}<extra></extra>",
           "hovertext": [
            "public",
            "public",
            "public",
            "public",
            "public",
            "public",
            "public",
            "public",
            "public",
            "public",
            "public",
            "public"
           ],
           "ids": [
            "public",
            "public",
            "public",
            "public",
            "public",
            "public",
            "public",
            "public",
            "public",
            "public",
            "public",
            "public"
           ],
           "legendgroup": "public",
           "line": {
            "color": "#00cc96",
            "dash": "solid"
           },
           "marker": {
            "symbol": "circle"
           },
           "mode": "lines",
           "name": "public",
           "orientation": "v",
           "showlegend": true,
           "type": "scatter",
           "x": [
            "2021-01-01T00:00:00",
            "2021-02-01T00:00:00",
            "2021-03-01T00:00:00",
            "2021-04-01T00:00:00",
            "2021-05-01T00:00:00",
            "2021-06-01T00:00:00",
            "2021-07-01T00:00:00",
            "2021-08-01T00:00:00",
            "2021-09-01T00:00:00",
            "2021-10-01T00:00:00",
            "2021-11-01T00:00:00",
            "2021-12-01T00:00:00"
           ],
           "xaxis": "x",
           "y": [
            0.6365059342121484,
            0.7822557274030689,
            0.7128176382660687,
            0.6299872448979592,
            0.6259340026333113,
            0.5851913265306122,
            0.5323609282422647,
            0.47991071428571425,
            0.5412815237288392,
            0.6210660605662464,
            0.4342401907652287,
            0.5109155534957429
           ],
           "yaxis": "y"
          },
          {
           "hovertemplate": "<b>%{hovertext}</b><br><br>org_type=religious<br>year=2021<br>Y-M=%{x}<br>occupancy_rate=%{y}<extra></extra>",
           "hovertext": [
            "religious",
            "religious",
            "religious",
            "religious",
            "religious",
            "religious",
            "religious",
            "religious",
            "religious",
            "religious",
            "religious",
            "religious"
           ],
           "ids": [
            "religious",
            "religious",
            "religious",
            "religious",
            "religious",
            "religious",
            "religious",
            "religious",
            "religious",
            "religious",
            "religious",
            "religious"
           ],
           "legendgroup": "religious",
           "line": {
            "color": "#ab63fa",
            "dash": "solid"
           },
           "marker": {
            "symbol": "circle"
           },
           "mode": "lines",
           "name": "religious",
           "orientation": "v",
           "showlegend": true,
           "type": "scatter",
           "x": [
            "2021-01-01T00:00:00",
            "2021-02-01T00:00:00",
            "2021-03-01T00:00:00",
            "2021-04-01T00:00:00",
            "2021-05-01T00:00:00",
            "2021-06-01T00:00:00",
            "2021-07-01T00:00:00",
            "2021-08-01T00:00:00",
            "2021-09-01T00:00:00",
            "2021-10-01T00:00:00",
            "2021-11-01T00:00:00",
            "2021-12-01T00:00:00"
           ],
           "xaxis": "x",
           "y": [
            0.447365064305292,
            0.3342734469674395,
            0.3212093914436056,
            0.34602488158383915,
            0.43822475226649804,
            0.4520933188090051,
            0.40043658964386486,
            0.6764498970487303,
            0.7846985815602837,
            0.7560377006345651,
            0.6850453112687156,
            0.7082532601235415
           ],
           "yaxis": "y"
          }
         ],
         "name": "2021"
        },
        {
         "data": [
          {
           "hovertemplate": "<b>%{hovertext}</b><br><br>org_type=charitable<br>year=2022<br>Y-M=%{x}<br>occupancy_rate=%{y}<extra></extra>",
           "hovertext": [
            "charitable",
            "charitable",
            "charitable",
            "charitable",
            "charitable",
            "charitable"
           ],
           "ids": [
            "charitable",
            "charitable",
            "charitable",
            "charitable",
            "charitable",
            "charitable"
           ],
           "legendgroup": "charitable",
           "line": {
            "color": "#636efa",
            "dash": "solid"
           },
           "marker": {
            "symbol": "circle"
           },
           "mode": "lines",
           "name": "charitable",
           "orientation": "v",
           "showlegend": true,
           "type": "scatter",
           "x": [
            "2022-01-01T00:00:00",
            "2022-02-01T00:00:00",
            "2022-03-01T00:00:00",
            "2022-04-01T00:00:00",
            "2022-05-01T00:00:00",
            "2022-06-01T00:00:00"
           ],
           "xaxis": "x",
           "y": [
            0.5832965542521994,
            0.641572601010101,
            0.6907132616487456,
            0.7153571759259258,
            0.7479117383512546,
            0.7978789237668161
           ],
           "yaxis": "y"
          },
          {
           "hovertemplate": "<b>%{hovertext}</b><br><br>org_type=private<br>year=2022<br>Y-M=%{x}<br>occupancy_rate=%{y}<extra></extra>",
           "hovertext": [
            "private",
            "private",
            "private",
            "private",
            "private",
            "private"
           ],
           "ids": [
            "private",
            "private",
            "private",
            "private",
            "private",
            "private"
           ],
           "legendgroup": "private",
           "line": {
            "color": "#EF553B",
            "dash": "solid"
           },
           "marker": {
            "symbol": "circle"
           },
           "mode": "lines",
           "name": "private",
           "orientation": "v",
           "showlegend": true,
           "type": "scatter",
           "x": [
            "2022-01-01T00:00:00",
            "2022-02-01T00:00:00",
            "2022-03-01T00:00:00",
            "2022-04-01T00:00:00",
            "2022-05-01T00:00:00",
            "2022-06-01T00:00:00"
           ],
           "xaxis": "x",
           "y": [
            0.8937223276407338,
            0.9425332633053222,
            0.9278067678684377,
            0.9092156862745099,
            0.9026565464895636,
            0.8692892156862745
           ],
           "yaxis": "y"
          },
          {
           "hovertemplate": "<b>%{hovertext}</b><br><br>org_type=public<br>year=2022<br>Y-M=%{x}<br>occupancy_rate=%{y}<extra></extra>",
           "hovertext": [
            "public",
            "public",
            "public",
            "public",
            "public",
            "public"
           ],
           "ids": [
            "public",
            "public",
            "public",
            "public",
            "public",
            "public"
           ],
           "legendgroup": "public",
           "line": {
            "color": "#00cc96",
            "dash": "solid"
           },
           "marker": {
            "symbol": "circle"
           },
           "mode": "lines",
           "name": "public",
           "orientation": "v",
           "showlegend": true,
           "type": "scatter",
           "x": [
            "2022-01-01T00:00:00",
            "2022-02-01T00:00:00",
            "2022-03-01T00:00:00",
            "2022-04-01T00:00:00",
            "2022-05-01T00:00:00",
            "2022-06-01T00:00:00"
           ],
           "xaxis": "x",
           "y": [
            0.6153081870077318,
            0.5214427007525316,
            0.2918883506710077,
            0.25725866221975174,
            0.300160035144973,
            0.2229409857328145
           ],
           "yaxis": "y"
          },
          {
           "hovertemplate": "<b>%{hovertext}</b><br><br>org_type=religious<br>year=2022<br>Y-M=%{x}<br>occupancy_rate=%{y}<extra></extra>",
           "hovertext": [
            "religious",
            "religious",
            "religious",
            "religious",
            "religious",
            "religious"
           ],
           "ids": [
            "religious",
            "religious",
            "religious",
            "religious",
            "religious",
            "religious"
           ],
           "legendgroup": "religious",
           "line": {
            "color": "#ab63fa",
            "dash": "solid"
           },
           "marker": {
            "symbol": "circle"
           },
           "mode": "lines",
           "name": "religious",
           "orientation": "v",
           "showlegend": true,
           "type": "scatter",
           "x": [
            "2022-01-01T00:00:00",
            "2022-02-01T00:00:00",
            "2022-03-01T00:00:00",
            "2022-04-01T00:00:00",
            "2022-05-01T00:00:00",
            "2022-06-01T00:00:00"
           ],
           "xaxis": "x",
           "y": [
            0.7387630595592161,
            0.770228596757852,
            0.7580955955955956,
            0.8255518018018019,
            0.7273085585585586,
            0.7219673840507173
           ],
           "yaxis": "y"
          }
         ],
         "name": "2022"
        }
       ],
       "layout": {
        "legend": {
         "title": {
          "text": "org_type"
         },
         "tracegroupgap": 0
        },
        "margin": {
         "t": 60
        },
        "sliders": [
         {
          "active": 0,
          "currentvalue": {
           "prefix": "year="
          },
          "len": 0.9,
          "pad": {
           "b": 10,
           "t": 60
          },
          "steps": [
           {
            "args": [
             [
              "2013"
             ],
             {
              "frame": {
               "duration": 0,
               "redraw": false
              },
              "fromcurrent": true,
              "mode": "immediate",
              "transition": {
               "duration": 0,
               "easing": "linear"
              }
             }
            ],
            "label": "2013",
            "method": "animate"
           },
           {
            "args": [
             [
              "2014"
             ],
             {
              "frame": {
               "duration": 0,
               "redraw": false
              },
              "fromcurrent": true,
              "mode": "immediate",
              "transition": {
               "duration": 0,
               "easing": "linear"
              }
             }
            ],
            "label": "2014",
            "method": "animate"
           },
           {
            "args": [
             [
              "2015"
             ],
             {
              "frame": {
               "duration": 0,
               "redraw": false
              },
              "fromcurrent": true,
              "mode": "immediate",
              "transition": {
               "duration": 0,
               "easing": "linear"
              }
             }
            ],
            "label": "2015",
            "method": "animate"
           },
           {
            "args": [
             [
              "2016"
             ],
             {
              "frame": {
               "duration": 0,
               "redraw": false
              },
              "fromcurrent": true,
              "mode": "immediate",
              "transition": {
               "duration": 0,
               "easing": "linear"
              }
             }
            ],
            "label": "2016",
            "method": "animate"
           },
           {
            "args": [
             [
              "2017"
             ],
             {
              "frame": {
               "duration": 0,
               "redraw": false
              },
              "fromcurrent": true,
              "mode": "immediate",
              "transition": {
               "duration": 0,
               "easing": "linear"
              }
             }
            ],
            "label": "2017",
            "method": "animate"
           },
           {
            "args": [
             [
              "2018"
             ],
             {
              "frame": {
               "duration": 0,
               "redraw": false
              },
              "fromcurrent": true,
              "mode": "immediate",
              "transition": {
               "duration": 0,
               "easing": "linear"
              }
             }
            ],
            "label": "2018",
            "method": "animate"
           },
           {
            "args": [
             [
              "2019"
             ],
             {
              "frame": {
               "duration": 0,
               "redraw": false
              },
              "fromcurrent": true,
              "mode": "immediate",
              "transition": {
               "duration": 0,
               "easing": "linear"
              }
             }
            ],
            "label": "2019",
            "method": "animate"
           },
           {
            "args": [
             [
              "2020"
             ],
             {
              "frame": {
               "duration": 0,
               "redraw": false
              },
              "fromcurrent": true,
              "mode": "immediate",
              "transition": {
               "duration": 0,
               "easing": "linear"
              }
             }
            ],
            "label": "2020",
            "method": "animate"
           },
           {
            "args": [
             [
              "2021"
             ],
             {
              "frame": {
               "duration": 0,
               "redraw": false
              },
              "fromcurrent": true,
              "mode": "immediate",
              "transition": {
               "duration": 0,
               "easing": "linear"
              }
             }
            ],
            "label": "2021",
            "method": "animate"
           },
           {
            "args": [
             [
              "2022"
             ],
             {
              "frame": {
               "duration": 0,
               "redraw": false
              },
              "fromcurrent": true,
              "mode": "immediate",
              "transition": {
               "duration": 0,
               "easing": "linear"
              }
             }
            ],
            "label": "2022",
            "method": "animate"
           }
          ],
          "x": 0.1,
          "xanchor": "left",
          "y": 0,
          "yanchor": "top"
         }
        ],
        "template": {
         "data": {
          "bar": [
           {
            "error_x": {
             "color": "#2a3f5f"
            },
            "error_y": {
             "color": "#2a3f5f"
            },
            "marker": {
             "line": {
              "color": "#E5ECF6",
              "width": 0.5
             },
             "pattern": {
              "fillmode": "overlay",
              "size": 10,
              "solidity": 0.2
             }
            },
            "type": "bar"
           }
          ],
          "barpolar": [
           {
            "marker": {
             "line": {
              "color": "#E5ECF6",
              "width": 0.5
             },
             "pattern": {
              "fillmode": "overlay",
              "size": 10,
              "solidity": 0.2
             }
            },
            "type": "barpolar"
           }
          ],
          "carpet": [
           {
            "aaxis": {
             "endlinecolor": "#2a3f5f",
             "gridcolor": "white",
             "linecolor": "white",
             "minorgridcolor": "white",
             "startlinecolor": "#2a3f5f"
            },
            "baxis": {
             "endlinecolor": "#2a3f5f",
             "gridcolor": "white",
             "linecolor": "white",
             "minorgridcolor": "white",
             "startlinecolor": "#2a3f5f"
            },
            "type": "carpet"
           }
          ],
          "choropleth": [
           {
            "colorbar": {
             "outlinewidth": 0,
             "ticks": ""
            },
            "type": "choropleth"
           }
          ],
          "contour": [
           {
            "colorbar": {
             "outlinewidth": 0,
             "ticks": ""
            },
            "colorscale": [
             [
              0,
              "#0d0887"
             ],
             [
              0.1111111111111111,
              "#46039f"
             ],
             [
              0.2222222222222222,
              "#7201a8"
             ],
             [
              0.3333333333333333,
              "#9c179e"
             ],
             [
              0.4444444444444444,
              "#bd3786"
             ],
             [
              0.5555555555555556,
              "#d8576b"
             ],
             [
              0.6666666666666666,
              "#ed7953"
             ],
             [
              0.7777777777777778,
              "#fb9f3a"
             ],
             [
              0.8888888888888888,
              "#fdca26"
             ],
             [
              1,
              "#f0f921"
             ]
            ],
            "type": "contour"
           }
          ],
          "contourcarpet": [
           {
            "colorbar": {
             "outlinewidth": 0,
             "ticks": ""
            },
            "type": "contourcarpet"
           }
          ],
          "heatmap": [
           {
            "colorbar": {
             "outlinewidth": 0,
             "ticks": ""
            },
            "colorscale": [
             [
              0,
              "#0d0887"
             ],
             [
              0.1111111111111111,
              "#46039f"
             ],
             [
              0.2222222222222222,
              "#7201a8"
             ],
             [
              0.3333333333333333,
              "#9c179e"
             ],
             [
              0.4444444444444444,
              "#bd3786"
             ],
             [
              0.5555555555555556,
              "#d8576b"
             ],
             [
              0.6666666666666666,
              "#ed7953"
             ],
             [
              0.7777777777777778,
              "#fb9f3a"
             ],
             [
              0.8888888888888888,
              "#fdca26"
             ],
             [
              1,
              "#f0f921"
             ]
            ],
            "type": "heatmap"
           }
          ],
          "heatmapgl": [
           {
            "colorbar": {
             "outlinewidth": 0,
             "ticks": ""
            },
            "colorscale": [
             [
              0,
              "#0d0887"
             ],
             [
              0.1111111111111111,
              "#46039f"
             ],
             [
              0.2222222222222222,
              "#7201a8"
             ],
             [
              0.3333333333333333,
              "#9c179e"
             ],
             [
              0.4444444444444444,
              "#bd3786"
             ],
             [
              0.5555555555555556,
              "#d8576b"
             ],
             [
              0.6666666666666666,
              "#ed7953"
             ],
             [
              0.7777777777777778,
              "#fb9f3a"
             ],
             [
              0.8888888888888888,
              "#fdca26"
             ],
             [
              1,
              "#f0f921"
             ]
            ],
            "type": "heatmapgl"
           }
          ],
          "histogram": [
           {
            "marker": {
             "pattern": {
              "fillmode": "overlay",
              "size": 10,
              "solidity": 0.2
             }
            },
            "type": "histogram"
           }
          ],
          "histogram2d": [
           {
            "colorbar": {
             "outlinewidth": 0,
             "ticks": ""
            },
            "colorscale": [
             [
              0,
              "#0d0887"
             ],
             [
              0.1111111111111111,
              "#46039f"
             ],
             [
              0.2222222222222222,
              "#7201a8"
             ],
             [
              0.3333333333333333,
              "#9c179e"
             ],
             [
              0.4444444444444444,
              "#bd3786"
             ],
             [
              0.5555555555555556,
              "#d8576b"
             ],
             [
              0.6666666666666666,
              "#ed7953"
             ],
             [
              0.7777777777777778,
              "#fb9f3a"
             ],
             [
              0.8888888888888888,
              "#fdca26"
             ],
             [
              1,
              "#f0f921"
             ]
            ],
            "type": "histogram2d"
           }
          ],
          "histogram2dcontour": [
           {
            "colorbar": {
             "outlinewidth": 0,
             "ticks": ""
            },
            "colorscale": [
             [
              0,
              "#0d0887"
             ],
             [
              0.1111111111111111,
              "#46039f"
             ],
             [
              0.2222222222222222,
              "#7201a8"
             ],
             [
              0.3333333333333333,
              "#9c179e"
             ],
             [
              0.4444444444444444,
              "#bd3786"
             ],
             [
              0.5555555555555556,
              "#d8576b"
             ],
             [
              0.6666666666666666,
              "#ed7953"
             ],
             [
              0.7777777777777778,
              "#fb9f3a"
             ],
             [
              0.8888888888888888,
              "#fdca26"
             ],
             [
              1,
              "#f0f921"
             ]
            ],
            "type": "histogram2dcontour"
           }
          ],
          "mesh3d": [
           {
            "colorbar": {
             "outlinewidth": 0,
             "ticks": ""
            },
            "type": "mesh3d"
           }
          ],
          "parcoords": [
           {
            "line": {
             "colorbar": {
              "outlinewidth": 0,
              "ticks": ""
             }
            },
            "type": "parcoords"
           }
          ],
          "pie": [
           {
            "automargin": true,
            "type": "pie"
           }
          ],
          "scatter": [
           {
            "fillpattern": {
             "fillmode": "overlay",
             "size": 10,
             "solidity": 0.2
            },
            "type": "scatter"
           }
          ],
          "scatter3d": [
           {
            "line": {
             "colorbar": {
              "outlinewidth": 0,
              "ticks": ""
             }
            },
            "marker": {
             "colorbar": {
              "outlinewidth": 0,
              "ticks": ""
             }
            },
            "type": "scatter3d"
           }
          ],
          "scattercarpet": [
           {
            "marker": {
             "colorbar": {
              "outlinewidth": 0,
              "ticks": ""
             }
            },
            "type": "scattercarpet"
           }
          ],
          "scattergeo": [
           {
            "marker": {
             "colorbar": {
              "outlinewidth": 0,
              "ticks": ""
             }
            },
            "type": "scattergeo"
           }
          ],
          "scattergl": [
           {
            "marker": {
             "colorbar": {
              "outlinewidth": 0,
              "ticks": ""
             }
            },
            "type": "scattergl"
           }
          ],
          "scattermapbox": [
           {
            "marker": {
             "colorbar": {
              "outlinewidth": 0,
              "ticks": ""
             }
            },
            "type": "scattermapbox"
           }
          ],
          "scatterpolar": [
           {
            "marker": {
             "colorbar": {
              "outlinewidth": 0,
              "ticks": ""
             }
            },
            "type": "scatterpolar"
           }
          ],
          "scatterpolargl": [
           {
            "marker": {
             "colorbar": {
              "outlinewidth": 0,
              "ticks": ""
             }
            },
            "type": "scatterpolargl"
           }
          ],
          "scatterternary": [
           {
            "marker": {
             "colorbar": {
              "outlinewidth": 0,
              "ticks": ""
             }
            },
            "type": "scatterternary"
           }
          ],
          "surface": [
           {
            "colorbar": {
             "outlinewidth": 0,
             "ticks": ""
            },
            "colorscale": [
             [
              0,
              "#0d0887"
             ],
             [
              0.1111111111111111,
              "#46039f"
             ],
             [
              0.2222222222222222,
              "#7201a8"
             ],
             [
              0.3333333333333333,
              "#9c179e"
             ],
             [
              0.4444444444444444,
              "#bd3786"
             ],
             [
              0.5555555555555556,
              "#d8576b"
             ],
             [
              0.6666666666666666,
              "#ed7953"
             ],
             [
              0.7777777777777778,
              "#fb9f3a"
             ],
             [
              0.8888888888888888,
              "#fdca26"
             ],
             [
              1,
              "#f0f921"
             ]
            ],
            "type": "surface"
           }
          ],
          "table": [
           {
            "cells": {
             "fill": {
              "color": "#EBF0F8"
             },
             "line": {
              "color": "white"
             }
            },
            "header": {
             "fill": {
              "color": "#C8D4E3"
             },
             "line": {
              "color": "white"
             }
            },
            "type": "table"
           }
          ]
         },
         "layout": {
          "annotationdefaults": {
           "arrowcolor": "#2a3f5f",
           "arrowhead": 0,
           "arrowwidth": 1
          },
          "autotypenumbers": "strict",
          "coloraxis": {
           "colorbar": {
            "outlinewidth": 0,
            "ticks": ""
           }
          },
          "colorscale": {
           "diverging": [
            [
             0,
             "#8e0152"
            ],
            [
             0.1,
             "#c51b7d"
            ],
            [
             0.2,
             "#de77ae"
            ],
            [
             0.3,
             "#f1b6da"
            ],
            [
             0.4,
             "#fde0ef"
            ],
            [
             0.5,
             "#f7f7f7"
            ],
            [
             0.6,
             "#e6f5d0"
            ],
            [
             0.7,
             "#b8e186"
            ],
            [
             0.8,
             "#7fbc41"
            ],
            [
             0.9,
             "#4d9221"
            ],
            [
             1,
             "#276419"
            ]
           ],
           "sequential": [
            [
             0,
             "#0d0887"
            ],
            [
             0.1111111111111111,
             "#46039f"
            ],
            [
             0.2222222222222222,
             "#7201a8"
            ],
            [
             0.3333333333333333,
             "#9c179e"
            ],
            [
             0.4444444444444444,
             "#bd3786"
            ],
            [
             0.5555555555555556,
             "#d8576b"
            ],
            [
             0.6666666666666666,
             "#ed7953"
            ],
            [
             0.7777777777777778,
             "#fb9f3a"
            ],
            [
             0.8888888888888888,
             "#fdca26"
            ],
            [
             1,
             "#f0f921"
            ]
           ],
           "sequentialminus": [
            [
             0,
             "#0d0887"
            ],
            [
             0.1111111111111111,
             "#46039f"
            ],
            [
             0.2222222222222222,
             "#7201a8"
            ],
            [
             0.3333333333333333,
             "#9c179e"
            ],
            [
             0.4444444444444444,
             "#bd3786"
            ],
            [
             0.5555555555555556,
             "#d8576b"
            ],
            [
             0.6666666666666666,
             "#ed7953"
            ],
            [
             0.7777777777777778,
             "#fb9f3a"
            ],
            [
             0.8888888888888888,
             "#fdca26"
            ],
            [
             1,
             "#f0f921"
            ]
           ]
          },
          "colorway": [
           "#636efa",
           "#EF553B",
           "#00cc96",
           "#ab63fa",
           "#FFA15A",
           "#19d3f3",
           "#FF6692",
           "#B6E880",
           "#FF97FF",
           "#FECB52"
          ],
          "font": {
           "color": "#2a3f5f"
          },
          "geo": {
           "bgcolor": "white",
           "lakecolor": "white",
           "landcolor": "#E5ECF6",
           "showlakes": true,
           "showland": true,
           "subunitcolor": "white"
          },
          "hoverlabel": {
           "align": "left"
          },
          "hovermode": "closest",
          "mapbox": {
           "style": "light"
          },
          "paper_bgcolor": "white",
          "plot_bgcolor": "#E5ECF6",
          "polar": {
           "angularaxis": {
            "gridcolor": "white",
            "linecolor": "white",
            "ticks": ""
           },
           "bgcolor": "#E5ECF6",
           "radialaxis": {
            "gridcolor": "white",
            "linecolor": "white",
            "ticks": ""
           }
          },
          "scene": {
           "xaxis": {
            "backgroundcolor": "#E5ECF6",
            "gridcolor": "white",
            "gridwidth": 2,
            "linecolor": "white",
            "showbackground": true,
            "ticks": "",
            "zerolinecolor": "white"
           },
           "yaxis": {
            "backgroundcolor": "#E5ECF6",
            "gridcolor": "white",
            "gridwidth": 2,
            "linecolor": "white",
            "showbackground": true,
            "ticks": "",
            "zerolinecolor": "white"
           },
           "zaxis": {
            "backgroundcolor": "#E5ECF6",
            "gridcolor": "white",
            "gridwidth": 2,
            "linecolor": "white",
            "showbackground": true,
            "ticks": "",
            "zerolinecolor": "white"
           }
          },
          "shapedefaults": {
           "line": {
            "color": "#2a3f5f"
           }
          },
          "ternary": {
           "aaxis": {
            "gridcolor": "white",
            "linecolor": "white",
            "ticks": ""
           },
           "baxis": {
            "gridcolor": "white",
            "linecolor": "white",
            "ticks": ""
           },
           "bgcolor": "#E5ECF6",
           "caxis": {
            "gridcolor": "white",
            "linecolor": "white",
            "ticks": ""
           }
          },
          "title": {
           "x": 0.05
          },
          "xaxis": {
           "automargin": true,
           "gridcolor": "white",
           "linecolor": "white",
           "ticks": "",
           "title": {
            "standoff": 15
           },
           "zerolinecolor": "white",
           "zerolinewidth": 2
          },
          "yaxis": {
           "automargin": true,
           "gridcolor": "white",
           "linecolor": "white",
           "ticks": "",
           "title": {
            "standoff": 15
           },
           "zerolinecolor": "white",
           "zerolinewidth": 2
          }
         }
        },
        "xaxis": {
         "anchor": "y",
         "domain": [
          0,
          1
         ],
         "title": {
          "text": "Y-M"
         }
        },
        "yaxis": {
         "anchor": "x",
         "domain": [
          0,
          1
         ],
         "range": [
          0,
          1.2
         ],
         "title": {
          "text": "occupancy_rate"
         }
        }
       }
      }
     },
     "metadata": {},
     "output_type": "display_data"
    }
   ],
   "source": [
    "import plotly.express as px\n",
    "\n",
    "\n",
    "fig = px.line(new_lel, x=\"Y-M\", y=\"occupancy_rate\", animation_frame=\"year\", animation_group=\"org_type\",\n",
    "           color=\"org_type\", hover_name=\"org_type\",\n",
    "           range_y=[0, 1.2])\n",
    "\n",
    "fig[\"layout\"].pop(\"updatemenus\") # optional, drop animation buttons\n",
    "fig.show()"
   ]
  },
  {
   "cell_type": "code",
   "execution_count": 187,
   "id": "bce2a0f6",
   "metadata": {},
   "outputs": [
    {
     "data": {
      "text/html": [
       "<div>\n",
       "<style scoped>\n",
       "    .dataframe tbody tr th:only-of-type {\n",
       "        vertical-align: middle;\n",
       "    }\n",
       "\n",
       "    .dataframe tbody tr th {\n",
       "        vertical-align: top;\n",
       "    }\n",
       "\n",
       "    .dataframe thead th {\n",
       "        text-align: right;\n",
       "    }\n",
       "</style>\n",
       "<table border=\"1\" class=\"dataframe\">\n",
       "  <thead>\n",
       "    <tr style=\"text-align: right;\">\n",
       "      <th></th>\n",
       "      <th>year</th>\n",
       "      <th>month</th>\n",
       "      <th>org_type</th>\n",
       "      <th>occupancy_rate</th>\n",
       "      <th>Y-M</th>\n",
       "    </tr>\n",
       "  </thead>\n",
       "  <tbody>\n",
       "    <tr>\n",
       "      <th>69</th>\n",
       "      <td>2019</td>\n",
       "      <td>1</td>\n",
       "      <td>charitable</td>\n",
       "      <td>0.873363</td>\n",
       "      <td>2019-01-01</td>\n",
       "    </tr>\n",
       "  </tbody>\n",
       "</table>\n",
       "</div>"
      ],
      "text/plain": [
       "    year  month    org_type  occupancy_rate        Y-M\n",
       "69  2019      1  charitable        0.873363 2019-01-01"
      ]
     },
     "execution_count": 187,
     "metadata": {},
     "output_type": "execute_result"
    }
   ],
   "source": []
  },
  {
   "cell_type": "code",
   "execution_count": null,
   "id": "e91657b1",
   "metadata": {},
   "outputs": [],
   "source": []
  }
 ],
 "metadata": {
  "kernelspec": {
   "display_name": "Python 3.10.6 64-bit ('3.10.6')",
   "language": "python",
   "name": "python3"
  },
  "language_info": {
   "codemirror_mode": {
    "name": "ipython",
    "version": 3
   },
   "file_extension": ".py",
   "mimetype": "text/x-python",
   "name": "python",
   "nbconvert_exporter": "python",
   "pygments_lexer": "ipython3",
   "version": "3.10.6"
  },
  "vscode": {
   "interpreter": {
    "hash": "0f6139928b4ae4c9a8028385b50b6d7f8c0fd73c15457ab7ccf142720c5af1af"
   }
  }
 },
 "nbformat": 4,
 "nbformat_minor": 5
}
